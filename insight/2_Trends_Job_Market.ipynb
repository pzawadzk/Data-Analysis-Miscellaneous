{
 "metadata": {
  "name": "",
  "signature": "sha256:265daac7d8ba536e4915ee2ca9dcdc70f460ea745b2e8efbd0a1ca45890d1270"
 },
 "nbformat": 3,
 "nbformat_minor": 0,
 "worksheets": [
  {
   "cells": [
    {
     "cell_type": "code",
     "collapsed": false,
     "input": [
      "import pandas as pd\n",
      "import numpy as np\n",
      "import vincent\n",
      "%pylab inline\n",
      "vincent.initialize_notebook()"
     ],
     "language": "python",
     "metadata": {},
     "outputs": [
      {
       "output_type": "stream",
       "stream": "stdout",
       "text": [
        "Populating the interactive namespace from numpy and matplotlib\n"
       ]
      },
      {
       "html": [
        "\n",
        "           <script>\n",
        "               \n",
        "                function vct_load_lib(url, callback){\n",
        "                      if(typeof d3 !== 'undefined' &&\n",
        "                         url === 'http://d3js.org/d3.v3.min.js'){\n",
        "                        callback()\n",
        "                      }\n",
        "                      var s = document.createElement('script');\n",
        "                      s.src = url;\n",
        "                      s.async = true;\n",
        "                      s.onreadystatechange = s.onload = callback;\n",
        "                      s.onerror = function(){\n",
        "                        console.warn(\"failed to load library \" + url);\n",
        "                        };\n",
        "                      document.getElementsByTagName(\"head\")[0].appendChild(s);\n",
        "                };\n",
        "                var vincent_event = new CustomEvent(\n",
        "                  \"vincent_libs_loaded\",\n",
        "                  {bubbles: true, cancelable: true}\n",
        "                );\n",
        "                \n",
        "               function load_all_libs(){\n",
        "                  console.log('Loading Vincent libs...')\n",
        "                  vct_load_lib('http://d3js.org/d3.v3.min.js', function(){\n",
        "                  vct_load_lib('http://d3js.org/d3.geo.projection.v0.min.js', function(){\n",
        "                  vct_load_lib('http://wrobstory.github.io/d3-cloud/d3.layout.cloud.js', function(){\n",
        "                  vct_load_lib('http://wrobstory.github.io/vega/vega.v1.3.3.js', function(){\n",
        "                  window.dispatchEvent(vincent_event);\n",
        "                  });\n",
        "                  });\n",
        "                  });\n",
        "                  });\n",
        "               };\n",
        "               if(typeof define === \"function\" && define.amd){\n",
        "                    if (window['d3'] === undefined ||\n",
        "                        window['topojson'] === undefined){\n",
        "                        require.config(\n",
        "                            {paths: {\n",
        "                              d3: 'http://d3js.org/d3.v3.min',\n",
        "                              topojson: 'http://d3js.org/topojson.v1.min'\n",
        "                              }\n",
        "                            }\n",
        "                          );\n",
        "                        require([\"d3\"], function(d3){\n",
        "                            console.log('Loading Vincent from require.js...')\n",
        "                            window.d3 = d3;\n",
        "                            require([\"topojson\"], function(topojson){\n",
        "                                window.topojson = topojson;\n",
        "                                load_all_libs();\n",
        "                            });\n",
        "                        });\n",
        "                    } else {\n",
        "                        load_all_libs();\n",
        "                    };\n",
        "               }else{\n",
        "                    console.log('Require.js not found, loading manually...')\n",
        "                    load_all_libs();\n",
        "               };\n",
        "\n",
        "           </script>"
       ],
       "metadata": {},
       "output_type": "display_data",
       "text": [
        "<IPython.core.display.HTML at 0x10a0603d0>"
       ]
      }
     ],
     "prompt_number": 15
    },
    {
     "cell_type": "code",
     "collapsed": false,
     "input": [
      "#df = pd.read_excel('LCA_FY2008.xlsx')\n",
      "#df.to_csv('LCA_FY2008.csv', encoding=\"utf-8\")"
     ],
     "language": "python",
     "metadata": {},
     "outputs": [],
     "prompt_number": 16
    },
    {
     "cell_type": "code",
     "collapsed": false,
     "input": [
      "df = pd.read_csv('LCA_FY2013.csv')\n",
      "#accepted H1B applications\n",
      "df = df[df['STATUS'] == 'CERTIFIED']"
     ],
     "language": "python",
     "metadata": {},
     "outputs": [
      {
       "output_type": "stream",
       "stream": "stderr",
       "text": [
        "/Users/pzawadzk/anaconda/lib/python2.7/site-packages/pandas/io/parsers.py:1139: DtypeWarning: Columns (23,27) have mixed types. Specify dtype option on import or set low_memory=False.\n",
        "  data = self._reader.read(nrows)\n"
       ]
      }
     ],
     "prompt_number": 17
    },
    {
     "cell_type": "markdown",
     "metadata": {},
     "source": [
      "## Highest demand jobs"
     ]
    },
    {
     "cell_type": "code",
     "collapsed": false,
     "input": [
      "df.shape"
     ],
     "language": "python",
     "metadata": {},
     "outputs": [
      {
       "metadata": {},
       "output_type": "pyout",
       "prompt_number": 18,
       "text": [
        "(382951, 36)"
       ]
      }
     ],
     "prompt_number": 18
    },
    {
     "cell_type": "code",
     "collapsed": false,
     "input": [
      "df_data_counts = df['LCA_CASE_JOB_TITLE'].value_counts()\n",
      "count_dict = df_data_counts[df_data_counts>5000].to_dict()\n",
      "print 'Top jobs frequency in %'\n",
      "for key in sort(count_dict.keys()):\n",
      "    frac = 100.*count_dict[key]/df.shape[0]\n",
      "    print '%.2f\\t%s'% (frac, key)"
     ],
     "language": "python",
     "metadata": {},
     "outputs": [
      {
       "output_type": "stream",
       "stream": "stdout",
       "text": [
        "Top jobs frequency in %\n",
        "2.66\tCOMPUTER PROGRAMMER\n",
        "7.81\tPROGRAMMER ANALYST\n",
        "3.39\tSOFTWARE ENGINEER\n",
        "2.05\tSYSTEMS ANALYST\n",
        "2.00\tTECHNOLOGY ANALYST - US\n",
        "2.04\tTECHNOLOGY LEAD - US\n"
       ]
      }
     ],
     "prompt_number": 19
    },
    {
     "cell_type": "raw",
     "metadata": {},
     "source": [
      "The most often requested H1B visa is \"PROGRAMMER ANALYST\" occupations. Other software/programming related jobs are also in high demand."
     ]
    },
    {
     "cell_type": "code",
     "collapsed": false,
     "input": [
      "pie = vincent.Pie(count_dict)\n",
      "pie.legend('Job titles')\n",
      "pie.width=10\n",
      "pie.display()"
     ],
     "language": "python",
     "metadata": {},
     "outputs": [
      {
       "html": [
        "<div id=\"vis801b24530cb2452392a5d853e51e38a9\"></div>\n",
        "<script>\n",
        "   ( function() {\n",
        "     var _do_plot = function() {\n",
        "       if (typeof vg === 'undefined') {\n",
        "         window.addEventListener('vincent_libs_loaded', _do_plot)\n",
        "         return;\n",
        "       }\n",
        "       vg.parse.spec({\"axes\": [], \"data\": [{\"name\": \"table\", \"values\": [{\"col\": \"data\", \"idx\": \"COMPUTER PROGRAMMER\", \"val\": 10202}, {\"col\": \"data\", \"idx\": \"PROGRAMMER ANALYST\", \"val\": 29906}, {\"col\": \"data\", \"idx\": \"SOFTWARE ENGINEER\", \"val\": 12973}, {\"col\": \"data\", \"idx\": \"SYSTEMS ANALYST\", \"val\": 7850}, {\"col\": \"data\", \"idx\": \"TECHNOLOGY ANALYST - US\", \"val\": 7641}, {\"col\": \"data\", \"idx\": \"TECHNOLOGY LEAD - US\", \"val\": 7809}]}], \"height\": 500, \"legends\": [{\"fill\": \"color\", \"offset\": 0, \"properties\": {}, \"title\": \"Job titles\"}], \"marks\": [{\"from\": {\"data\": \"table\", \"transform\": [{\"type\": \"pie\", \"value\": \"data.val\"}]}, \"properties\": {\"enter\": {\"endAngle\": {\"field\": \"endAngle\"}, \"fill\": {\"field\": \"data.idx\", \"scale\": \"color\"}, \"innerRadius\": {\"value\": 0}, \"outerRadius\": {\"value\": 250}, \"startAngle\": {\"field\": \"startAngle\"}, \"stroke\": {\"value\": \"white\"}, \"x\": {\"group\": \"width\", \"mult\": 0.5}, \"y\": {\"group\": \"height\", \"mult\": 0.5}}}, \"type\": \"arc\"}], \"padding\": \"auto\", \"scales\": [{\"domain\": {\"data\": \"table\", \"field\": \"data.idx\"}, \"name\": \"color\", \"range\": \"category10\", \"type\": \"ordinal\"}], \"width\": 10}, function(chart) {\n",
        "         chart({el: \"#vis801b24530cb2452392a5d853e51e38a9\"}).update();\n",
        "       });\n",
        "     };\n",
        "     _do_plot();\n",
        "   })();\n",
        "</script>\n",
        "<style>.vega canvas {width: 100%;}</style>\n",
        "        "
       ],
       "metadata": {},
       "output_type": "display_data",
       "text": [
        "<IPython.core.display.HTML at 0x109684510>"
       ]
      }
     ],
     "prompt_number": 20
    },
    {
     "cell_type": "code",
     "collapsed": false,
     "input": [
      "def get_salary_range(df_data, count_dict):\n",
      "    '''Helper function: returns minimum and maximum wage specified in visa application.'''\n",
      "    conv={'Year':1, 'Hour':12*80*2.15, 'Month':12, 'Bi-Weekly':12*2.15, 'Week':12*4.3, 'Select Pay Range':0}\n",
      "    salary_min ={key:[] for key in count_dict.keys()}\n",
      "    salary_max ={key:[] for key in count_dict.keys()}\n",
      "\n",
      "    for index, row in df_data.iterrows():\n",
      "        key = row['LCA_CASE_JOB_TITLE']\n",
      "        if key in count_dict.keys():\n",
      "            val = conv[row['LCA_CASE_WAGE_RATE_UNIT']] * row['LCA_CASE_WAGE_RATE_FROM']\n",
      "            if val > 30000 and val < 190000:\n",
      "                salary_min[key].append(val)\n",
      "            val = conv[row['LCA_CASE_WAGE_RATE_UNIT']] * row['LCA_CASE_WAGE_RATE_TO']\n",
      "            if val > 30000 and val < 190000:\n",
      "                salary_max[key].append(val)\n",
      "\n",
      "    min_sal, max_sal, lab = [],[],[]\n",
      "    for key in count_dict.keys():\n",
      "        min_sal.append(np.mean(salary_min[key]))\n",
      "        max_sal.append(np.mean(salary_max[key]))\n",
      "        lab.append(key.strip())\n",
      "    min_sal = np.array(min_sal)\n",
      "    max_sal = np.array(max_sal)\n",
      "    return min_sal, max_sal, lab\n"
     ],
     "language": "python",
     "metadata": {},
     "outputs": [],
     "prompt_number": 21
    },
    {
     "cell_type": "code",
     "collapsed": false,
     "input": [
      "min_sal, max_sal, lab = get_salary_range(df,count_dict)"
     ],
     "language": "python",
     "metadata": {},
     "outputs": [],
     "prompt_number": 22
    },
    {
     "cell_type": "raw",
     "metadata": {},
     "source": [
      "High demand postions are paid over $60,0000. SOFTWARE ENGINEERs get highest wages."
     ]
    },
    {
     "cell_type": "code",
     "collapsed": false,
     "input": [
      "fig = figure(figsize=(10,8))\n",
      "ax = fig.add_subplot(111)\n",
      "N = len(lab)\n",
      "ind = np.arange(N)              \n",
      "width = 0.35                    \n",
      "\n",
      "rects1 = ax.bar(ind, min_sal, width, color='black')\n",
      "rects2 = ax.bar(ind+width, max_sal, width, color='red')\n",
      "\n",
      "ax.set_xlim(-width,len(ind)+width)\n",
      "ax.set_ylabel('Salary Bounds [USD]')\n",
      "ax.set_title('Salary by Job Tile')\n",
      "xTickMarks = lab\n",
      "\n",
      "ax.set_xticks(ind)\n",
      "xtickNames = ax.set_xticklabels(xTickMarks)\n",
      "setp(xtickNames, rotation=70, fontsize=12)\n",
      "\n",
      "## add a legend\n",
      "ax.legend( (rects1[0], rects2[0]), ('Mean(FROM)', 'Mean(TO)'), loc =0 )"
     ],
     "language": "python",
     "metadata": {},
     "outputs": [
      {
       "metadata": {},
       "output_type": "pyout",
       "prompt_number": 23,
       "text": [
        "<matplotlib.legend.Legend at 0x10d3cd650>"
       ]
      },
      {
       "metadata": {},
       "output_type": "display_data",
       "png": "[encoded data removed]",
       "text": [
        "<matplotlib.figure.Figure at 0x118206450>"
       ]
      }
     ],
     "prompt_number": 23
    },
    {
     "cell_type": "markdown",
     "metadata": {},
     "source": [
      "##Top DATA jobs"
     ]
    },
    {
     "cell_type": "raw",
     "metadata": {},
     "source": [
      "DATA related job consist a much smaller fraction of visa applications."
     ]
    },
    {
     "cell_type": "code",
     "collapsed": false,
     "input": [
      "df_data = df[df['LCA_CASE_JOB_TITLE'].str.contains(\"DATA\").fillna(False)]"
     ],
     "language": "python",
     "metadata": {},
     "outputs": [],
     "prompt_number": 24
    },
    {
     "cell_type": "code",
     "collapsed": false,
     "input": [
      "df_data_counts = df_data['LCA_CASE_JOB_TITLE'].value_counts()\n",
      "count_dict = df_data_counts[df_data_counts>100].to_dict()\n",
      "print 'Top jobs frequency in %'\n",
      "for key in sort(count_dict.keys()):\n",
      "    frac = 100.*count_dict[key]/df.shape[0]\n",
      "    print '%.2f\\t%s'% (frac, key)"
     ],
     "language": "python",
     "metadata": {},
     "outputs": [
      {
       "output_type": "stream",
       "stream": "stdout",
       "text": [
        "Top jobs frequency in %\n",
        "0.08\tDATA ANALYST\n",
        "0.03\tDATA SCIENTIST\n",
        "0.06\tDATA WAREHOUSE SPECIALIST\n",
        "0.51\tDATABASE ADMINISTRATOR\n",
        "0.03\tDATABASE ADMINISTRATORS\n",
        "0.03\tDATABASE ANALYST\n",
        "0.04\tDATABASE DEVELOPER\n",
        "0.05\tORACLE DATABASE ADMINISTRATOR\n",
        "0.04\tSENIOR DATABASE ADMINISTRATOR\n"
       ]
      }
     ],
     "prompt_number": 25
    },
    {
     "cell_type": "code",
     "collapsed": false,
     "input": [
      "pie = vincent.Pie(count_dict)\n",
      "pie.legend('Job titles')\n",
      "pie.width=10\n",
      "pie.display()"
     ],
     "language": "python",
     "metadata": {},
     "outputs": [
      {
       "html": [
        "<div id=\"vis98e8b32f1f944a528d07f164b4eb2159\"></div>\n",
        "<script>\n",
        "   ( function() {\n",
        "     var _do_plot = function() {\n",
        "       if (typeof vg === 'undefined') {\n",
        "         window.addEventListener('vincent_libs_loaded', _do_plot)\n",
        "         return;\n",
        "       }\n",
        "       vg.parse.spec({\"axes\": [], \"data\": [{\"name\": \"table\", \"values\": [{\"col\": \"data\", \"idx\": \"DATA ANALYST\", \"val\": 320}, {\"col\": \"data\", \"idx\": \"DATA SCIENTIST\", \"val\": 113}, {\"col\": \"data\", \"idx\": \"DATA WAREHOUSE SPECIALIST\", \"val\": 213}, {\"col\": \"data\", \"idx\": \"DATABASE ADMINISTRATOR\", \"val\": 1943}, {\"col\": \"data\", \"idx\": \"DATABASE ADMINISTRATORS\", \"val\": 125}, {\"col\": \"data\", \"idx\": \"DATABASE ANALYST\", \"val\": 112}, {\"col\": \"data\", \"idx\": \"DATABASE DEVELOPER\", \"val\": 138}, {\"col\": \"data\", \"idx\": \"ORACLE DATABASE ADMINISTRATOR\", \"val\": 191}, {\"col\": \"data\", \"idx\": \"SENIOR DATABASE ADMINISTRATOR\", \"val\": 165}]}], \"height\": 500, \"legends\": [{\"fill\": \"color\", \"offset\": 0, \"properties\": {}, \"title\": \"Job titles\"}], \"marks\": [{\"from\": {\"data\": \"table\", \"transform\": [{\"type\": \"pie\", \"value\": \"data.val\"}]}, \"properties\": {\"enter\": {\"endAngle\": {\"field\": \"endAngle\"}, \"fill\": {\"field\": \"data.idx\", \"scale\": \"color\"}, \"innerRadius\": {\"value\": 0}, \"outerRadius\": {\"value\": 250}, \"startAngle\": {\"field\": \"startAngle\"}, \"stroke\": {\"value\": \"white\"}, \"x\": {\"group\": \"width\", \"mult\": 0.5}, \"y\": {\"group\": \"height\", \"mult\": 0.5}}}, \"type\": \"arc\"}], \"padding\": \"auto\", \"scales\": [{\"domain\": {\"data\": \"table\", \"field\": \"data.idx\"}, \"name\": \"color\", \"range\": \"category10\", \"type\": \"ordinal\"}], \"width\": 10}, function(chart) {\n",
        "         chart({el: \"#vis98e8b32f1f944a528d07f164b4eb2159\"}).update();\n",
        "       });\n",
        "     };\n",
        "     _do_plot();\n",
        "   })();\n",
        "</script>\n",
        "<style>.vega canvas {width: 100%;}</style>\n",
        "        "
       ],
       "metadata": {},
       "output_type": "display_data",
       "text": [
        "<IPython.core.display.HTML at 0x113146350>"
       ]
      }
     ],
     "prompt_number": 26
    },
    {
     "cell_type": "code",
     "collapsed": false,
     "input": [
      "min_sal, max_sal, lab = get_salary_range(df_data,count_dict)"
     ],
     "language": "python",
     "metadata": {},
     "outputs": [],
     "prompt_number": 27
    },
    {
     "cell_type": "code",
     "collapsed": false,
     "input": [
      "fig = figure(figsize=(10,8))\n",
      "ax = fig.add_subplot(111)\n",
      "N = len(lab)\n",
      "ind = np.arange(N)              \n",
      "width = 0.35                    \n",
      "\n",
      "rects1 = ax.bar(ind, min_sal, width, color='black')\n",
      "rects2 = ax.bar(ind+width, max_sal, width, color='red')\n",
      "\n",
      "ax.set_xlim(-width,len(ind)+width)\n",
      "ax.set_ylabel('Salary Bounds [USD]')\n",
      "ax.set_title('Salary by Job Tile')\n",
      "xTickMarks = lab\n",
      "\n",
      "ax.set_xticks(ind)\n",
      "xtickNames = ax.set_xticklabels(xTickMarks)\n",
      "setp(xtickNames, rotation=70, fontsize=12)\n",
      "\n",
      "## add a legend\n",
      "ax.legend( (rects1[0], rects2[0]), ('Mean(FROM)', 'Mean(TO)'), loc =0 )"
     ],
     "language": "python",
     "metadata": {},
     "outputs": [
      {
       "metadata": {},
       "output_type": "pyout",
       "prompt_number": 28,
       "text": [
        "<matplotlib.legend.Legend at 0x1160d0950>"
       ]
      },
      {
       "metadata": {},
       "output_type": "display_data",
       "png": "[encoded data removed]",
       "text": [
        "<matplotlib.figure.Figure at 0x1168f6f50>"
       ]
      }
     ],
     "prompt_number": 28
    },
    {
     "cell_type": "code",
     "collapsed": false,
     "input": [
      "#Trends"
     ],
     "language": "python",
     "metadata": {},
     "outputs": [],
     "prompt_number": 29
    },
    {
     "cell_type": "code",
     "collapsed": false,
     "input": [
      "years = [2009, 2010, 2011, 2012,2013]\n",
      "dates = [pd.datetime(y, 12, 31) for y in years]\n",
      "ts = pd.Series(np.zeros(len(years)), dates)"
     ],
     "language": "python",
     "metadata": {},
     "outputs": [],
     "prompt_number": 30
    },
    {
     "cell_type": "markdown",
     "metadata": {},
     "source": [
      "## DATA / PROGRAMMER jobs"
     ]
    },
    {
     "cell_type": "code",
     "collapsed": false,
     "input": [
      "count = 0\n",
      "for i, y in enumerate(years):\n",
      "    df = pd.read_csv('LCA_FY%d.csv'%y)\n",
      "    df = df[df['STATUS'] == 'CERTIFIED']\n",
      "    df_data = df[df['LCA_CASE_JOB_TITLE'].str.contains(\"DATA\").fillna(False)]\n",
      "\n",
      "    df_prog = df[df['LCA_CASE_JOB_TITLE'].str.contains(\"PROGRAMMER\").fillna(False)]\n",
      "    ts[pd.datetime(y, 12, 31)] = 1.0*df_data.shape[0]/df_prog.shape[0]\n",
      "    #ts[pd.datetime(y, 12, 31)] = 1.0*df_data.shape[0]/df.shape[0]\n",
      "    count += df.shape[0]\n",
      "stacked = vincent.Area(ts)\n",
      "stacked.width=500\n",
      "stacked.height=300\n",
      "stacked.axis_titles(x='Date',y='')\n",
      "stacked.legend(title='Data/Programmer')\n",
      "stacked.display()"
     ],
     "language": "python",
     "metadata": {},
     "outputs": [
      {
       "output_type": "stream",
       "stream": "stderr",
       "text": [
        "/Users/pzawadzk/anaconda/lib/python2.7/site-packages/pandas/io/parsers.py:1139: DtypeWarning: Columns (23) have mixed types. Specify dtype option on import or set low_memory=False.\n",
        "  data = self._reader.read(nrows)\n"
       ]
      },
      {
       "html": [
        "<div id=\"vis0413095d88d34bb193c0b90439efcdf5\"></div>\n",
        "<script>\n",
        "   ( function() {\n",
        "     var _do_plot = function() {\n",
        "       if (typeof vg === 'undefined') {\n",
        "         window.addEventListener('vincent_libs_loaded', _do_plot)\n",
        "         return;\n",
        "       }\n",
        "       vg.parse.spec({\"axes\": [{\"scale\": \"x\", \"title\": \"Date\", \"type\": \"x\"}, {\"scale\": \"y\", \"title\": \"\", \"type\": \"y\"}], \"data\": [{\"name\": \"table\", \"values\": [{\"col\": \"data\", \"idx\": 1262242800000, \"val\": 0.09441975308641976}, {\"col\": \"data\", \"idx\": 1293778800000, \"val\": 0.09823434991974318}, {\"col\": \"data\", \"idx\": 1325314800000, \"val\": 0.11054548381255155}, {\"col\": \"data\", \"idx\": 1356937200000, \"val\": 0.11799014703939296}, {\"col\": \"data\", \"idx\": 1388473200000, \"val\": 0.12932500402742228}]}, {\"name\": \"stats\", \"source\": \"table\", \"transform\": [{\"keys\": [\"data.idx\"], \"type\": \"facet\"}, {\"type\": \"stats\", \"value\": \"data.val\"}]}], \"height\": 300, \"legends\": [{\"fill\": \"color\", \"offset\": 0, \"properties\": {}, \"title\": \"Data/Programmer\"}], \"marks\": [{\"from\": {\"data\": \"table\", \"transform\": [{\"keys\": [\"data.col\"], \"type\": \"facet\"}, {\"height\": \"data.val\", \"point\": \"data.idx\", \"type\": \"stack\"}]}, \"marks\": [{\"properties\": {\"enter\": {\"fill\": {\"field\": \"data.col\", \"scale\": \"color\"}, \"interpolate\": {\"value\": \"monotone\"}, \"x\": {\"field\": \"data.idx\", \"scale\": \"x\"}, \"y\": {\"field\": \"y\", \"scale\": \"y\"}, \"y2\": {\"field\": \"y2\", \"scale\": \"y\"}}}, \"type\": \"area\"}], \"type\": \"group\"}], \"padding\": \"auto\", \"scales\": [{\"domain\": {\"data\": \"table\", \"field\": \"data.idx\"}, \"name\": \"x\", \"range\": \"width\", \"type\": \"time\", \"zero\": false}, {\"domain\": {\"data\": \"stats\", \"field\": \"sum\"}, \"name\": \"y\", \"nice\": true, \"range\": \"height\"}, {\"domain\": {\"data\": \"table\", \"field\": \"data.col\"}, \"name\": \"color\", \"range\": \"category20\", \"type\": \"ordinal\"}], \"width\": 500}, function(chart) {\n",
        "         chart({el: \"#vis0413095d88d34bb193c0b90439efcdf5\"}).update();\n",
        "       });\n",
        "     };\n",
        "     _do_plot();\n",
        "   })();\n",
        "</script>\n",
        "<style>.vega canvas {width: 100%;}</style>\n",
        "        "
       ],
       "metadata": {},
       "output_type": "display_data",
       "text": [
        "<IPython.core.display.HTML at 0x11e413d50>"
       ]
      }
     ],
     "prompt_number": 31
    },
    {
     "cell_type": "markdown",
     "metadata": {},
     "source": [
      "## DATA SCIENTIST/ PROGRAMMER jobs"
     ]
    },
    {
     "cell_type": "code",
     "collapsed": false,
     "input": [
      "for i, y in enumerate(years):\n",
      "    df = pd.read_csv('LCA_FY%d.csv'%y)\n",
      "    df = df[df['STATUS'] == 'CERTIFIED']\n",
      "    df_data = df[df['LCA_CASE_JOB_TITLE'].str.contains(\"DATA SCIENTIST\").fillna(False)]\n",
      "\n",
      "    df_prog = df[df['LCA_CASE_JOB_TITLE'].str.contains(\"PROGRAMMER\").fillna(False)]\n",
      "    ts[pd.datetime(y, 12, 31)] = 1.0*df_data.shape[0]/df_prog.shape[0]\n",
      "    \n",
      "stacked = vincent.Area(ts)\n",
      "stacked.width=500\n",
      "stacked.height=300\n",
      "stacked.legend(title='Data Scientist/Programmer')\n",
      "stacked.axis_titles(x='Date',y='', )\n",
      "stacked.display()"
     ],
     "language": "python",
     "metadata": {},
     "outputs": [
      {
       "html": [
        "<div id=\"vis7c53453af683479fa43f2c4c5331764e\"></div>\n",
        "<script>\n",
        "   ( function() {\n",
        "     var _do_plot = function() {\n",
        "       if (typeof vg === 'undefined') {\n",
        "         window.addEventListener('vincent_libs_loaded', _do_plot)\n",
        "         return;\n",
        "       }\n",
        "       vg.parse.spec({\"axes\": [{\"scale\": \"x\", \"title\": \"Date\", \"type\": \"x\"}, {\"scale\": \"y\", \"title\": \"\", \"type\": \"y\"}], \"data\": [{\"name\": \"table\", \"values\": [{\"col\": \"data\", \"idx\": 1262242800000, \"val\": 0.0}, {\"col\": \"data\", \"idx\": 1293778800000, \"val\": 6.87915615684476e-05}, {\"col\": \"data\", \"idx\": 1325314800000, \"val\": 0.00034205919636209984}, {\"col\": \"data\", \"idx\": 1356937200000, \"val\": 0.0013401536457841787}, {\"col\": \"data\", \"idx\": 1388473200000, \"val\": 0.0029713426530867952}]}, {\"name\": \"stats\", \"source\": \"table\", \"transform\": [{\"keys\": [\"data.idx\"], \"type\": \"facet\"}, {\"type\": \"stats\", \"value\": \"data.val\"}]}], \"height\": 300, \"legends\": [{\"fill\": \"color\", \"offset\": 0, \"properties\": {}, \"title\": \"Data Scientist/Programmer\"}], \"marks\": [{\"from\": {\"data\": \"table\", \"transform\": [{\"keys\": [\"data.col\"], \"type\": \"facet\"}, {\"height\": \"data.val\", \"point\": \"data.idx\", \"type\": \"stack\"}]}, \"marks\": [{\"properties\": {\"enter\": {\"fill\": {\"field\": \"data.col\", \"scale\": \"color\"}, \"interpolate\": {\"value\": \"monotone\"}, \"x\": {\"field\": \"data.idx\", \"scale\": \"x\"}, \"y\": {\"field\": \"y\", \"scale\": \"y\"}, \"y2\": {\"field\": \"y2\", \"scale\": \"y\"}}}, \"type\": \"area\"}], \"type\": \"group\"}], \"padding\": \"auto\", \"scales\": [{\"domain\": {\"data\": \"table\", \"field\": \"data.idx\"}, \"name\": \"x\", \"range\": \"width\", \"type\": \"time\", \"zero\": false}, {\"domain\": {\"data\": \"stats\", \"field\": \"sum\"}, \"name\": \"y\", \"nice\": true, \"range\": \"height\"}, {\"domain\": {\"data\": \"table\", \"field\": \"data.col\"}, \"name\": \"color\", \"range\": \"category20\", \"type\": \"ordinal\"}], \"width\": 500}, function(chart) {\n",
        "         chart({el: \"#vis7c53453af683479fa43f2c4c5331764e\"}).update();\n",
        "       });\n",
        "     };\n",
        "     _do_plot();\n",
        "   })();\n",
        "</script>\n",
        "<style>.vega canvas {width: 100%;}</style>\n",
        "        "
       ],
       "metadata": {},
       "output_type": "display_data",
       "text": [
        "<IPython.core.display.HTML at 0x1140981d0>"
       ]
      }
     ],
     "prompt_number": 32
    },
    {
     "cell_type": "markdown",
     "metadata": {},
     "source": [
      "##DATABASE jobs still dominating"
     ]
    },
    {
     "cell_type": "raw",
     "metadata": {},
     "source": [
      "Job titles with words  'DATABASE' and  'ADMINISTRATOR', rather  than 'ANALYST' and 'SCIENTIST' still dominate the 'DATA' job market. "
     ]
    },
    {
     "cell_type": "code",
     "collapsed": false,
     "input": [
      "df = pd.read_csv('LCA_FY2013.csv')\n",
      "df = df[df['STATUS'] == 'CERTIFIED']\n",
      "df_data = df[df['LCA_CASE_JOB_TITLE'].str.contains(\"DATA\").fillna(False)]"
     ],
     "language": "python",
     "metadata": {},
     "outputs": [],
     "prompt_number": 33
    },
    {
     "cell_type": "code",
     "collapsed": false,
     "input": [
      "import collections\n",
      "counter_w = collections.Counter()\n",
      "for text in df_data['LCA_CASE_JOB_TITLE']:\n",
      "    for w in text.split():\n",
      "        counter_w[w] += 1"
     ],
     "language": "python",
     "metadata": {},
     "outputs": [],
     "prompt_number": 34
    },
    {
     "cell_type": "code",
     "collapsed": false,
     "input": [
      "for key, value in counter_w.items():\n",
      "    if value<20 or len(key)<3:\n",
      "        del counter_w[key]"
     ],
     "language": "python",
     "metadata": {},
     "outputs": [],
     "prompt_number": 35
    },
    {
     "cell_type": "code",
     "collapsed": false,
     "input": [
      "normalize = lambda x: int(100 * x / (max(counter_w.values()) - min(counter_w.values())) +10 )\n",
      "word_list = {k: normalize(v) for k, v in counter_w.items()}\n",
      "word = vincent.Word(word_list)\n",
      "word.display()"
     ],
     "language": "python",
     "metadata": {},
     "outputs": [
      {
       "html": [
        "<div id=\"visaf06dc51f5d144d692d9a89209a069ea\"></div>\n",
        "<script>\n",
        "   ( function() {\n",
        "     var _do_plot = function() {\n",
        "       if (typeof vg === 'undefined') {\n",
        "         window.addEventListener('vincent_libs_loaded', _do_plot)\n",
        "         return;\n",
        "       }\n",
        "       vg.parse.spec({\"axes\": [], \"data\": [{\"name\": \"table\", \"transform\": [{\"font\": \"Helvetica Neue\", \"fontSize\": \"data.val\", \"rotate\": {\"random\": [-90, -60, -30, 0, 30, 60]}, \"text\": \"data.idx\", \"type\": \"wordcloud\"}], \"values\": [{\"col\": \"data\", \"idx\": \"(DATA\", \"val\": 10}, {\"col\": \"data\", \"idx\": \"ADMINISTRATION\", \"val\": 10}, {\"col\": \"data\", \"idx\": \"ADMINISTRATOR\", \"val\": 83}, {\"col\": \"data\", \"idx\": \"ADMINISTRATORS\", \"val\": 13}, {\"col\": \"data\", \"idx\": \"ADMINSTRATOR\", \"val\": 10}, {\"col\": \"data\", \"idx\": \"ANALYSIS\", \"val\": 10}, {\"col\": \"data\", \"idx\": \"ANALYST\", \"val\": 39}, {\"col\": \"data\", \"idx\": \"ANALYST,\", \"val\": 10}, {\"col\": \"data\", \"idx\": \"ANALYTICS\", \"val\": 11}, {\"col\": \"data\", \"idx\": \"AND\", \"val\": 12}, {\"col\": \"data\", \"idx\": \"APPLICATION\", \"val\": 10}, {\"col\": \"data\", \"idx\": \"APPLICATIONS\", \"val\": 11}, {\"col\": \"data\", \"idx\": \"ARCHITECT\", \"val\": 16}, {\"col\": \"data\", \"idx\": \"ASSOCIATE\", \"val\": 11}, {\"col\": \"data\", \"idx\": \"ASSOCIATE,\", \"val\": 10}, {\"col\": \"data\", \"idx\": \"BASE\", \"val\": 10}, {\"col\": \"data\", \"idx\": \"BIG\", \"val\": 10}, {\"col\": \"data\", \"idx\": \"BUSINESS\", \"val\": 12}, {\"col\": \"data\", \"idx\": \"CLINICAL\", \"val\": 12}, {\"col\": \"data\", \"idx\": \"COMMUNICATIONS\", \"val\": 10}, {\"col\": \"data\", \"idx\": \"COMPUTER\", \"val\": 10}, {\"col\": \"data\", \"idx\": \"CONSULTANT\", \"val\": 12}, {\"col\": \"data\", \"idx\": \"DATA\", \"val\": 75}, {\"col\": \"data\", \"idx\": \"DATABASE\", \"val\": 110}, {\"col\": \"data\", \"idx\": \"DATASTAGE\", \"val\": 11}, {\"col\": \"data\", \"idx\": \"DATAWAREHOUSE\", \"val\": 10}, {\"col\": \"data\", \"idx\": \"DBA\", \"val\": 10}, {\"col\": \"data\", \"idx\": \"DEVELOPER\", \"val\": 23}, {\"col\": \"data\", \"idx\": \"DEVELOPMENT\", \"val\": 10}, {\"col\": \"data\", \"idx\": \"DIRECTOR,\", \"val\": 10}, {\"col\": \"data\", \"idx\": \"ENGINEER\", \"val\": 23}, {\"col\": \"data\", \"idx\": \"ENGINEER,\", \"val\": 11}, {\"col\": \"data\", \"idx\": \"ETL\", \"val\": 10}, {\"col\": \"data\", \"idx\": \"III\", \"val\": 11}, {\"col\": \"data\", \"idx\": \"INTEGRATION\", \"val\": 11}, {\"col\": \"data\", \"idx\": \"INTELLIGENCE\", \"val\": 10}, {\"col\": \"data\", \"idx\": \"LEAD\", \"val\": 12}, {\"col\": \"data\", \"idx\": \"LEVEL\", \"val\": 10}, {\"col\": \"data\", \"idx\": \"MANAGEMENT\", \"val\": 12}, {\"col\": \"data\", \"idx\": \"MANAGER\", \"val\": 14}, {\"col\": \"data\", \"idx\": \"MANAGER,\", \"val\": 11}, {\"col\": \"data\", \"idx\": \"MARKETING\", \"val\": 11}, {\"col\": \"data\", \"idx\": \"MIGRATION\", \"val\": 10}, {\"col\": \"data\", \"idx\": \"MODELER\", \"val\": 11}, {\"col\": \"data\", \"idx\": \"NETWORK\", \"val\": 11}, {\"col\": \"data\", \"idx\": \"OPERATIONS\", \"val\": 10}, {\"col\": \"data\", \"idx\": \"ORACLE\", \"val\": 18}, {\"col\": \"data\", \"idx\": \"PRINCIPAL\", \"val\": 11}, {\"col\": \"data\", \"idx\": \"PROFESSIONAL\", \"val\": 10}, {\"col\": \"data\", \"idx\": \"PROGRAMMER\", \"val\": 12}, {\"col\": \"data\", \"idx\": \"QUALITY\", \"val\": 10}, {\"col\": \"data\", \"idx\": \"RESEARCH\", \"val\": 11}, {\"col\": \"data\", \"idx\": \"SAP\", \"val\": 10}, {\"col\": \"data\", \"idx\": \"SCIENTIST\", \"val\": 13}, {\"col\": \"data\", \"idx\": \"SENIOR\", \"val\": 28}, {\"col\": \"data\", \"idx\": \"SERVER\", \"val\": 11}, {\"col\": \"data\", \"idx\": \"SERVICES\", \"val\": 10}, {\"col\": \"data\", \"idx\": \"SOFTWARE\", \"val\": 12}, {\"col\": \"data\", \"idx\": \"SOFTWARE/DATABASE\", \"val\": 10}, {\"col\": \"data\", \"idx\": \"SPECIALIST\", \"val\": 19}, {\"col\": \"data\", \"idx\": \"SPECIALISTS\", \"val\": 11}, {\"col\": \"data\", \"idx\": \"SQL\", \"val\": 13}, {\"col\": \"data\", \"idx\": \"SR.\", \"val\": 15}, {\"col\": \"data\", \"idx\": \"STAFF\", \"val\": 10}, {\"col\": \"data\", \"idx\": \"SYSTEM\", \"val\": 10}, {\"col\": \"data\", \"idx\": \"SYSTEMS\", \"val\": 13}, {\"col\": \"data\", \"idx\": \"TECHNICAL\", \"val\": 11}, {\"col\": \"data\", \"idx\": \"TERADATA\", \"val\": 11}, {\"col\": \"data\", \"idx\": \"WAREHOUSE\", \"val\": 22}, {\"col\": \"data\", \"idx\": \"WAREHOUSING\", \"val\": 13}]}], \"height\": 500, \"legends\": [], \"marks\": [{\"from\": {\"data\": \"table\"}, \"properties\": {\"enter\": {\"align\": {\"value\": \"center\"}, \"angle\": {\"field\": \"angle\"}, \"baseline\": {\"value\": \"middle\"}, \"fill\": {\"field\": \"data.idx\", \"scale\": \"color\"}, \"font\": {\"field\": \"font\"}, \"fontSize\": {\"field\": \"fontSize\"}, \"text\": {\"field\": \"data.idx\"}, \"x\": {\"field\": \"x\"}, \"y\": {\"field\": \"y\"}}}, \"type\": \"text\"}], \"padding\": \"auto\", \"scales\": [{\"domain\": {\"data\": \"table\", \"field\": \"data.idx\"}, \"name\": \"color\", \"range\": \"category10\", \"type\": \"ordinal\"}], \"width\": 960}, function(chart) {\n",
        "         chart({el: \"#visaf06dc51f5d144d692d9a89209a069ea\"}).update();\n",
        "       });\n",
        "     };\n",
        "     _do_plot();\n",
        "   })();\n",
        "</script>\n",
        "<style>.vega canvas {width: 100%;}</style>\n",
        "        "
       ],
       "metadata": {},
       "output_type": "display_data",
       "text": [
        "<IPython.core.display.HTML at 0x120c00fd0>"
       ]
      }
     ],
     "prompt_number": 36
    }
   ],
   "metadata": {}
  }
 ]
}