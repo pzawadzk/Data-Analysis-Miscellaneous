{
 "metadata": {
  "name": "",
  "signature": "sha256:9a31490d6161059ecf040fdb3c13d847a62eb4a309203fd5238d027da63f3938"
 },
 "nbformat": 3,
 "nbformat_minor": 0,
 "worksheets": [
  {
   "cells": [
    {
     "cell_type": "code",
     "collapsed": false,
     "input": [
      "from IPython import parallel\n",
      "comm = parallel.Client()\n",
      "comm.ids\n",
      "comm.block = True\n",
      "dview = comm[:]\n",
      "print dview"
     ],
     "language": "python",
     "metadata": {},
     "outputs": [
      {
       "output_type": "stream",
       "stream": "stdout",
       "text": [
        "<DirectView [0, 1, 2, 3,...]>\n"
       ]
      }
     ],
     "prompt_number": 4
    },
    {
     "cell_type": "code",
     "collapsed": false,
     "input": [
      "%%px\n",
      "from ml import get_all_features\n",
      "import numpy as np\n",
      "import os\n",
      "from pykalman import KalmanFilter"
     ],
     "language": "python",
     "metadata": {},
     "outputs": [],
     "prompt_number": 5
    },
    {
     "cell_type": "code",
     "collapsed": false,
     "input": [
      "import numpy as np\n",
      "drivers = np.loadtxt('drivers.txt', dtype=np.int16)"
     ],
     "language": "python",
     "metadata": {},
     "outputs": [],
     "prompt_number": 6
    },
    {
     "cell_type": "markdown",
     "metadata": {},
     "source": [
      "#Smooth"
     ]
    },
    {
     "cell_type": "code",
     "collapsed": false,
     "input": [
      "\n",
      "import numpy as np\n",
      "\n",
      "def smooth(dr):    \n",
      "    kf = KalmanFilter()\n",
      "    for t in range(1,201):\n",
      "        if not os.path.exists('drivers/%d/%d_smooth.csv'%(dr,t)):\n",
      "            d = np.genfromtxt('drivers/%d/%d.csv'%(dr,t), delimiter=',', skip_header=True)\n",
      "            d[:,0] = kf.smooth(d[:,0])[0].T[0]\n",
      "            d[:,1] = kf.smooth(d[:,1])[0].T[0]\n",
      "            np.savetxt('drivers/%d/%d_smooth.csv'%(dr,t), d, delimiter=',', header='x,y', fmt='%.1f')\n"
     ],
     "language": "python",
     "metadata": {},
     "outputs": [],
     "prompt_number": 5
    },
    {
     "cell_type": "raw",
     "metadata": {},
     "source": [
      "for dr in drivers:\n",
      "    for t in range(1,201):\n",
      "        if  os.path.exists('drivers/%d/%d_smooth.csv'%(dr,t)):\n",
      "            os.remove('drivers/%d/%d_smooth.csv'%(dr,t))"
     ]
    },
    {
     "cell_type": "code",
     "collapsed": false,
     "input": [
      "output = dview.map(smooth, drivers)"
     ],
     "language": "python",
     "metadata": {},
     "outputs": []
    },
    {
     "cell_type": "code",
     "collapsed": false,
     "input": [
      "import os \n",
      "count = 0\n",
      "for dr in drivers:\n",
      "    for t in range(1,201):\n",
      "        if  os.path.exists('drivers/%d/%d_smooth.csv'%(dr,t)):\n",
      "            count +=1"
     ],
     "language": "python",
     "metadata": {},
     "outputs": [],
     "prompt_number": 20
    },
    {
     "cell_type": "code",
     "collapsed": false,
     "input": [
      "print count"
     ],
     "language": "python",
     "metadata": {},
     "outputs": [
      {
       "output_type": "stream",
       "stream": "stdout",
       "text": [
        "547200\n"
       ]
      }
     ],
     "prompt_number": 21
    },
    {
     "cell_type": "markdown",
     "metadata": {},
     "source": [
      "#Write featuers"
     ]
    },
    {
     "cell_type": "code",
     "collapsed": false,
     "input": [
      "%%px\n",
      "features = {'max_dist':True, #0\n",
      "            \n",
      "            'mean_acc':True, #1\n",
      "            'max_acc':True,  #2\n",
      "            'min_acc':True,  #3\n",
      "            'std_acc':True, #4\n",
      "            \n",
      "            'Q1_acc':True,  #5\n",
      "            'Q2_acc':True,  #6\n",
      "            'Q3_acc':True,    #7\n",
      "            'Q13_acc':True, #8\n",
      "            \n",
      "            \n",
      "            'mean_vel':True, #9\n",
      "            'max_vel':True,  #10\n",
      "            'std_vel':True, #11\n",
      "            \n",
      "            'Q1_vel':True,  #12\n",
      "            'Q2_vel':True,  #13\n",
      "            'Q3_vel':True,  #14\n",
      "            'Q13_vel':True,  #15\n",
      "            \n",
      "             'nstops':True,  #16\n",
      "             'nstops_per_dist': True, #17\n",
      "             \n",
      "            'Q1_aod':True,  #18\n",
      "            'Q2_aod':True,  #19\n",
      "            'Q3_aod':True,  #20\n",
      "            'Q13_aod':True,  #21  \n",
      "            \n",
      "            'Q1_kinv':True,  #22\n",
      "            'Q2_kinv':True,  #23\n",
      "            'Q3_kinv':True,  #24\n",
      "            'Q13_kinv':True,  #25\n",
      "            \n",
      "            'nacc':True, #26\n",
      "            'ndcc':True, #27\n",
      "            \n",
      "            'nacc_d':True, #28\n",
      "            'ndcc_d':True,  #29\n",
      "            \n",
      "            'deff':True, #30\n",
      "            'l': True\n",
      "            } #1"
     ],
     "language": "python",
     "metadata": {},
     "outputs": [],
     "prompt_number": 7
    },
    {
     "cell_type": "code",
     "collapsed": false,
     "input": [
      "def write_features(d):\n",
      "    FS = get_all_features(d, range(1,201), features, smooth_type='', masking=False)\n",
      "    np.savetxt(\"features/d%d.csv\"%d, FS, delimiter=\",\") "
     ],
     "language": "python",
     "metadata": {},
     "outputs": [],
     "prompt_number": 8
    },
    {
     "cell_type": "code",
     "collapsed": false,
     "input": [
      "output = dview.map(write_features, drivers)"
     ],
     "language": "python",
     "metadata": {},
     "outputs": [],
     "prompt_number": 9
    },
    {
     "cell_type": "markdown",
     "metadata": {},
     "source": [
      "#Write data"
     ]
    },
    {
     "cell_type": "code",
     "collapsed": false,
     "input": [
      "import numpy as np\n",
      "from sklearn.preprocessing import normalize\n",
      "drivers = np.loadtxt('drivers.txt', dtype=np.int16)"
     ],
     "language": "python",
     "metadata": {},
     "outputs": [],
     "prompt_number": 10
    },
    {
     "cell_type": "code",
     "collapsed": false,
     "input": [
      "def read_data(d):\n",
      "    X = np.genfromtxt('features/d%d.csv'%d, delimiter=',')\n",
      "    return (d,X)"
     ],
     "language": "python",
     "metadata": {},
     "outputs": [],
     "prompt_number": 11
    },
    {
     "cell_type": "code",
     "collapsed": false,
     "input": [
      "output = dview.map(read_data, drivers)"
     ],
     "language": "python",
     "metadata": {},
     "outputs": [],
     "prompt_number": 12
    },
    {
     "cell_type": "code",
     "collapsed": false,
     "input": [
      "data = {key:X for key, X in output}"
     ],
     "language": "python",
     "metadata": {},
     "outputs": [],
     "prompt_number": 13
    },
    {
     "cell_type": "code",
     "collapsed": false,
     "input": [
      "np.shape(data[1])[1]"
     ],
     "language": "python",
     "metadata": {},
     "outputs": [
      {
       "metadata": {},
       "output_type": "pyout",
       "prompt_number": 14,
       "text": [
        "60"
       ]
      }
     ],
     "prompt_number": 14
    },
    {
     "cell_type": "code",
     "collapsed": false,
     "input": [
      "selected_features = range(np.shape(data[1])[1])"
     ],
     "language": "python",
     "metadata": {},
     "outputs": [],
     "prompt_number": 15
    },
    {
     "cell_type": "code",
     "collapsed": false,
     "input": [
      "X_all = data[1][:300, selected_features]\n",
      "for d in drivers[1:]:\n",
      "    X_all = np.concatenate( (X_all, data[d][:300, selected_features]))\n",
      "X_all = normalize(X_all, axis=0)"
     ],
     "language": "python",
     "metadata": {},
     "outputs": [],
     "prompt_number": 16
    },
    {
     "cell_type": "code",
     "collapsed": false,
     "input": [
      "np.savetxt('features/Xall_alf_300.csv', X_all, delimiter=',')"
     ],
     "language": "python",
     "metadata": {},
     "outputs": [],
     "prompt_number": 17
    },
    {
     "cell_type": "code",
     "collapsed": false,
     "input": [
      "selected_features = range(np.shape(data[1])[1])\n",
      "#selected_features = [14, 5, 28, 24, 10, 7, 30, 0, 22, 12, 2, 20, 6, 23, 4, 13, 25, 17]\n",
      "for d in drivers:\n",
      "    X = data[d][:, selected_features]\n",
      "    np.savetxt('features/Xall_alf_%d_fs.csv'%d, X, delimiter=',')"
     ],
     "language": "python",
     "metadata": {},
     "outputs": [],
     "prompt_number": 19
    },
    {
     "cell_type": "code",
     "collapsed": false,
     "input": [],
     "language": "python",
     "metadata": {},
     "outputs": []
    }
   ],
   "metadata": {}
  }
 ]
}