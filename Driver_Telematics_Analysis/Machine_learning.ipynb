{
 "metadata": {
  "name": "",
  "signature": "sha256:da4224ef243ce3f7ed5e4570b2765ce20229fd362d6ef44f04bdaa2ee3d290aa"
 },
 "nbformat": 3,
 "nbformat_minor": 0,
 "worksheets": [
  {
   "cells": [
    {
     "cell_type": "markdown",
     "metadata": {},
     "source": [
      "# Initial ML model"
     ]
    },
    {
     "cell_type": "code",
     "collapsed": false,
     "input": [
      "from IPython import parallel\n",
      "comm = parallel.Client()\n",
      "comm.ids\n",
      "comm.block = True\n",
      "dview = comm[:]\n",
      "print dview"
     ],
     "language": "python",
     "metadata": {},
     "outputs": [
      {
       "output_type": "stream",
       "stream": "stdout",
       "text": [
        "<DirectView [0, 1, 2, 3,...]>\n"
       ]
      }
     ],
     "prompt_number": 5
    },
    {
     "cell_type": "code",
     "collapsed": false,
     "input": [
      "%%px\n",
      "from sklearn.ensemble import GradientBoostingClassifier\n",
      "from sklearn import cross_validation, svm\n",
      "import  numpy as np\n",
      "from sklearn.covariance import EllipticEnvelope\n",
      "from sklearn.preprocessing import normalize\n",
      "from sklearn.feature_selection import RFECV\n",
      "from sklearn.cross_validation import StratifiedKFold\n",
      "from sklearn.metrics import accuracy_score "
     ],
     "language": "python",
     "metadata": {},
     "outputs": [],
     "prompt_number": 112
    },
    {
     "cell_type": "code",
     "collapsed": false,
     "input": [
      "import numpy as np \n",
      "drivers = list(np.loadtxt('drivers.txt', dtype=np.int16))[:300]"
     ],
     "language": "python",
     "metadata": {},
     "outputs": [],
     "prompt_number": 7
    },
    {
     "cell_type": "code",
     "collapsed": false,
     "input": [
      "%%px\n",
      "drivers = list(np.loadtxt('drivers.txt', dtype=np.int16))[:300]"
     ],
     "language": "python",
     "metadata": {},
     "outputs": [],
     "prompt_number": 8
    },
    {
     "cell_type": "code",
     "collapsed": false,
     "input": [
      "%%px\n",
      "X = np.genfromtxt('features/Xall_alf_300.csv', delimiter=',')\n",
      "print np.shape(X)"
     ],
     "language": "python",
     "metadata": {},
     "outputs": [
      {
       "output_type": "stream",
       "stream": "stdout",
       "text": [
        "[stdout:0] (547200, 60)\n",
        "[stdout:1] (547200, 60)\n",
        "[stdout:2] (547200, 60)\n",
        "[stdout:3] (547200, 60)\n",
        "[stdout:4] (547200, 60)\n",
        "[stdout:5] (547200, 60)\n",
        "[stdout:6] (547200, 60)\n",
        "[stdout:7] (547200, 60)\n",
        "[stdout:8] (547200, 60)\n",
        "[stdout:9] (547200, 60)\n",
        "[stdout:10] (547200, 60)\n",
        "[stdout:11] (547200, 60)\n"
       ]
      }
     ],
     "prompt_number": 9
    },
    {
     "cell_type": "code",
     "collapsed": false,
     "input": [],
     "language": "python",
     "metadata": {},
     "outputs": [],
     "prompt_number": 8
    },
    {
     "cell_type": "markdown",
     "metadata": {},
     "source": [
      "#all data distributed"
     ]
    },
    {
     "cell_type": "code",
     "collapsed": false,
     "input": [
      "#%%writefile predict.py\n",
      "def predict(d, N, features, start_y=None):\n",
      "    \n",
      "    np.random.seed(0)\n",
      "    \n",
      "    index = drivers.index(d)\n",
      "    vs = np.random.choice(drivers[:index] + drivers[index+1:],N)\n",
      "    v_indexes = [drivers.index(v) for v in vs]\n",
      "    \n",
      "    X0 = X[index*200:(index+1)*200, features]\n",
      "\n",
      "        #out.fit(X0)\n",
      "    #y_outl = out.predict(X0)\n",
      "    #y_outl = np.concatenate((y_outl, [1]*200))\n",
      "    y_outl = np.ones(400)\n",
      "    #y = []\n",
      "    y_pred = np.zeros(200)\n",
      "    if start_y == None:\n",
      "        ypart = np.array([1,]*200 + [0,]*200)\n",
      "    else:\n",
      "        ypart = np.concatenate((start_y, np.zeros(200)))\n",
      "    score = 0\n",
      "    nf = np.zeros(len(features))\n",
      "    score_list =  []\n",
      "    for v_index in v_indexes:\n",
      "        Xi = X[v_index*200:(v_index+1)*200, features]\n",
      "\n",
      "        Xpart = np.concatenate((X0, Xi))\n",
      "    \n",
      "        if cv == 'rank':\n",
      "            clf.fit(Xpart[y_outl ==1] , ypart[y_outl ==1])\n",
      "            nf += clf.feature_importances_\n",
      "        elif cv == 'list':\n",
      "            clf.fit(Xpart[y_outl ==1] , ypart[y_outl ==1])\n",
      "            y_pred = clf.predict(Xpart)\n",
      "            score_list.append(accuracy_score(ypart,y_pred))\n",
      "            \n",
      "        elif cv == 'score':\n",
      "            score += cross_validation.cross_val_score(clf, Xpart, ypart, cv=3)\n",
      "        else:\n",
      "            clf.fit(Xpart[y_outl ==1] , ypart[y_outl ==1])\n",
      "            #y.append(clf.predict_proba(Xpart)[:200, 1])\n",
      "            y_pred += clf.predict(Xpart)[:200]#, 1]\n",
      "            \n",
      "    if cv == 'rank': return nf/N\n",
      "    elif cv == 'list': return score_list\n",
      "    elif cv == 'score': return score/N\n",
      "    else: return (d, y_pred/N)"
     ],
     "language": "python",
     "metadata": {},
     "outputs": [],
     "prompt_number": 113
    },
    {
     "cell_type": "code",
     "collapsed": false,
     "input": [
      "y  = np.zeros(10)\n",
      "np.mean(abs(y-y))"
     ],
     "language": "python",
     "metadata": {},
     "outputs": [
      {
       "metadata": {},
       "output_type": "pyout",
       "prompt_number": 114,
       "text": [
        "0.0"
       ]
      }
     ],
     "prompt_number": 114
    },
    {
     "cell_type": "markdown",
     "metadata": {},
     "source": [
      "#Score\n"
     ]
    },
    {
     "cell_type": "code",
     "collapsed": false,
     "input": [
      "%%px\n",
      "clf = GradientBoostingClassifier(n_estimators=20, learning_rate=0.1,  max_depth=3, random_state=0, subsample =0.5)\n",
      "#cv='score'\n",
      "cv = 'list'"
     ],
     "language": "python",
     "metadata": {},
     "outputs": [],
     "prompt_number": 115
    },
    {
     "cell_type": "code",
     "collapsed": false,
     "input": [
      "%%time\n",
      "\n",
      "k=30\n",
      "ff = [31, 10, 5, 30, 28, 24, 11, 20, 29, 4, 7, 25, 14, 21, 8, 12, 0, 1, 16, 6, 23, 26, 3, 17, 2, 22, 19, 18, 27, 15, 13, 9][:k]\n",
      "\n",
      "\n",
      "if 1:\n",
      "    N = 100\n",
      "    Ndrivers = len(drivers)\n",
      "    \n",
      "    features = [ ff for j in range(Ndrivers)]\n",
      "    output = dview.map(predict, drivers, [N,]*Ndrivers, features)"
     ],
     "language": "python",
     "metadata": {},
     "outputs": [
      {
       "output_type": "stream",
       "stream": "stdout",
       "text": [
        "CPU times: user 11.1 s, sys: 519 ms, total: 11.6 s\n",
        "Wall time: 2min 16s\n"
       ]
      }
     ],
     "prompt_number": 125
    },
    {
     "cell_type": "code",
     "collapsed": false,
     "input": [
      "score = 0\n",
      "for s in output:\n",
      "    score += max(s)\n",
      "print score/300"
     ],
     "language": "python",
     "metadata": {},
     "outputs": [
      {
       "output_type": "stream",
       "stream": "stdout",
       "text": [
        "0.96495\n"
       ]
      }
     ],
     "prompt_number": 128
    },
    {
     "cell_type": "markdown",
     "metadata": {},
     "source": [
      "#feature selection"
     ]
    },
    {
     "cell_type": "code",
     "collapsed": false,
     "input": [
      "%%px\n",
      "clf = GradientBoostingClassifier(n_estimators=5, learning_rate=0.1,  max_depth=3, random_state=0, subsample =0.5)\n",
      "cv='rank'"
     ],
     "language": "python",
     "metadata": {},
     "outputs": [],
     "prompt_number": 12
    },
    {
     "cell_type": "code",
     "collapsed": false,
     "input": [
      "%%time\n",
      "ff = range(60)\n",
      "if 1:\n",
      "    N = 10\n",
      "    Ndrivers = len(drivers)\n",
      "    \n",
      "    features = [ ff for j in range(Ndrivers)]\n",
      "    output = dview.map(predict, drivers, [N,]*Ndrivers, features)\n",
      "    "
     ],
     "language": "python",
     "metadata": {},
     "outputs": [
      {
       "output_type": "stream",
       "stream": "stdout",
       "text": [
        "CPU times: user 445 ms, sys: 29 ms, total: 474 ms\n",
        "Wall time: 5.27 s\n"
       ]
      }
     ],
     "prompt_number": 13
    },
    {
     "cell_type": "code",
     "collapsed": false,
     "input": [
      "len(output[1])"
     ],
     "language": "python",
     "metadata": {},
     "outputs": [
      {
       "metadata": {},
       "output_type": "pyout",
       "prompt_number": 14,
       "text": [
        "60"
       ]
      }
     ],
     "prompt_number": 14
    },
    {
     "cell_type": "code",
     "collapsed": false,
     "input": [
      "nf = np.zeros(60)\n",
      "for  f in output:\n",
      "    nf += f"
     ],
     "language": "python",
     "metadata": {},
     "outputs": [],
     "prompt_number": 23
    },
    {
     "cell_type": "code",
     "collapsed": false,
     "input": [
      "ranking = nf /300."
     ],
     "language": "python",
     "metadata": {},
     "outputs": [],
     "prompt_number": 24
    },
    {
     "cell_type": "code",
     "collapsed": false,
     "input": [
      "ranking[30:]"
     ],
     "language": "python",
     "metadata": {},
     "outputs": [
      {
       "metadata": {},
       "output_type": "pyout",
       "prompt_number": 30,
       "text": [
        "array([ 0.06409904,  0.02305803,  0.01288184,  0.02012651,  0.0563682 ,\n",
        "        0.01853918,  0.01496972,  0.00978885,  0.06355112,  0.04056454,\n",
        "        0.05728998,  0.00630156,  0.00750663,  0.01130266,  0.00431751,\n",
        "        0.00790157,  0.00440983,  0.0055278 ,  0.00273051,  0.00277065,\n",
        "        0.00098751,  0.00106957,  0.00071978,  0.0004849 ,  0.00044771,\n",
        "        0.00057835,  0.01460695,  0.01374797,  0.0085217 ,  0.00738795,\n",
        "        0.00311336,  0.00362067,  0.0015328 ,  0.00284216,  0.00183346,\n",
        "        0.00090248,  0.00131778,  0.00076365,  0.00105157,  0.00056465])"
       ]
      }
     ],
     "prompt_number": 30
    },
    {
     "cell_type": "code",
     "collapsed": false,
     "input": [
      "order = range(60)"
     ],
     "language": "python",
     "metadata": {},
     "outputs": [],
     "prompt_number": 26
    },
    {
     "cell_type": "code",
     "collapsed": false,
     "input": [
      "ranking_s, order_s = zip(*sorted(zip(ranking, order), reverse=True ))"
     ],
     "language": "python",
     "metadata": {},
     "outputs": [],
     "prompt_number": 27
    },
    {
     "cell_type": "code",
     "collapsed": false,
     "input": [
      "ranking_s[:31]"
     ],
     "language": "python",
     "metadata": {},
     "outputs": [
      {
       "metadata": {},
       "output_type": "pyout",
       "prompt_number": 28,
       "text": [
        "(0.082718188941615159,\n",
        " 0.064099040445598193,\n",
        " 0.064019358603842419,\n",
        " 0.06355111767567713,\n",
        " 0.057289982153553583,\n",
        " 0.056368201315340274,\n",
        " 0.043852209519369384,\n",
        " 0.042769700580502959,\n",
        " 0.04056453985358472,\n",
        " 0.038201658617212357,\n",
        " 0.035171538623312779,\n",
        " 0.025564483646181604,\n",
        " 0.023058032047430496,\n",
        " 0.022901652452883784,\n",
        " 0.020126512997145296,\n",
        " 0.019411030561135124,\n",
        " 0.01853918263825307,\n",
        " 0.016000845066397609,\n",
        " 0.015436966275116697,\n",
        " 0.014969720803849691,\n",
        " 0.01460695497777165,\n",
        " 0.013747966028750724,\n",
        " 0.013463582829581454,\n",
        " 0.012881843527037019,\n",
        " 0.012621969404541545,\n",
        " 0.011302655021365125,\n",
        " 0.011286160659811549,\n",
        " 0.011067623541312945,\n",
        " 0.010877531951839613,\n",
        " 0.010787981279393052,\n",
        " 0.010253470562954328)"
       ]
      }
     ],
     "prompt_number": 28
    },
    {
     "cell_type": "code",
     "collapsed": false,
     "input": [
      "order_s[:16]"
     ],
     "language": "python",
     "metadata": {},
     "outputs": [
      {
       "metadata": {},
       "output_type": "pyout",
       "prompt_number": 29,
       "text": [
        "(10, 20, 5, 28, 30, 24, 11, 7, 29, 14, 8, 12, 21, 4, 23, 19)"
       ]
      }
     ],
     "prompt_number": 29
    },
    {
     "cell_type": "code",
     "collapsed": false,
     "input": [
      "features = [10, 5, 30, 28, 24, 11, 20, 29, 4, 7, 25, 14, 21, 8, 12, 0, 1, 16, 6, 23, 26, 3, 17, 2, 22, 19, 18, 27, 15, 13, 9][:k]"
     ],
     "language": "python",
     "metadata": {},
     "outputs": [],
     "prompt_number": 110
    },
    {
     "cell_type": "code",
     "collapsed": false,
     "input": [
      "    y_all = np.genfromtxt('result_40_0_3_2700_fs_16.csv', delimiter=',')[1:,1]\n",
      "    y0 = y_all[index*200:(index+1)*200]\n",
      "    mask = y0>=0.8"
     ],
     "language": "python",
     "metadata": {},
     "outputs": [],
     "prompt_number": 52
    },
    {
     "cell_type": "code",
     "collapsed": false,
     "input": [
      "mask"
     ],
     "language": "python",
     "metadata": {},
     "outputs": [
      {
       "metadata": {},
       "output_type": "pyout",
       "prompt_number": 53,
       "text": [
        "array([False,  True,  True,  True,  True,  True,  True,  True,  True,\n",
        "        True,  True,  True, False,  True,  True,  True,  True,  True,\n",
        "        True,  True,  True,  True,  True,  True,  True,  True,  True,\n",
        "        True,  True,  True,  True,  True,  True,  True,  True,  True,\n",
        "        True,  True,  True,  True,  True,  True,  True,  True,  True,\n",
        "        True,  True,  True,  True,  True,  True,  True,  True,  True,\n",
        "        True,  True,  True,  True,  True,  True,  True,  True,  True,\n",
        "        True,  True,  True,  True,  True,  True, False, False,  True,\n",
        "        True,  True,  True,  True,  True,  True,  True,  True,  True,\n",
        "        True,  True,  True,  True,  True,  True,  True, False,  True,\n",
        "        True,  True,  True,  True,  True,  True,  True,  True,  True,\n",
        "        True, False,  True,  True,  True,  True,  True,  True,  True,\n",
        "       False,  True,  True,  True,  True,  True,  True,  True,  True,\n",
        "        True,  True,  True,  True,  True,  True, False, False,  True,\n",
        "        True,  True,  True,  True, False,  True,  True,  True,  True,\n",
        "        True,  True,  True,  True,  True,  True,  True, False,  True,\n",
        "        True,  True,  True,  True,  True,  True,  True,  True,  True,\n",
        "        True,  True,  True,  True,  True,  True,  True,  True,  True,\n",
        "        True,  True,  True,  True,  True,  True,  True,  True,  True,\n",
        "        True, False,  True,  True,  True,  True,  True,  True,  True,\n",
        "        True,  True,  True,  True,  True,  True, False,  True,  True,\n",
        "        True,  True,  True,  True,  True,  True,  True,  True,  True,\n",
        "        True,  True], dtype=bool)"
       ]
      }
     ],
     "prompt_number": 53
    },
    {
     "cell_type": "markdown",
     "metadata": {},
     "source": [
      "#Scoring"
     ]
    },
    {
     "cell_type": "code",
     "collapsed": false,
     "input": [],
     "language": "python",
     "metadata": {},
     "outputs": []
    },
    {
     "cell_type": "code",
     "collapsed": false,
     "input": [
      "%%px\n",
      "out = EllipticEnvelope(contamination=0.1)\n",
      "clf = GradientBoostingClassifier(n_estimators=10, learning_rate=0.05,  max_depth=3, random_state=0, subsample =0.5)\n",
      "#clf= svm.SVC(kernel='rbf',C=0.01)"
     ],
     "language": "python",
     "metadata": {},
     "outputs": [],
     "prompt_number": 9
    },
    {
     "cell_type": "code",
     "collapsed": false,
     "input": [
      "%px cv='score'"
     ],
     "language": "python",
     "metadata": {},
     "outputs": [],
     "prompt_number": 10
    },
    {
     "cell_type": "code",
     "collapsed": false,
     "input": [
      "%%time \n",
      "N = 10\n",
      "err = 0\n",
      "featuers_selected = []\n",
      "scores = []\n",
      "Nf_prev_step = len(featuers_selected)\n",
      "adding_f = 1\n",
      "while adding_f >0:\n",
      "    best_f = -1\n",
      "    for i in range(31):\n",
      "        if i not in featuers_selected:\n",
      "            ff = featuers_selected[:]\n",
      "            ff.append(i)\n",
      "\n",
      "            Ndrivers = len(drivers)\n",
      "            features = [ ff for j in range(Ndrivers)]\n",
      "            output = dview.map(predict, drivers, [N,]*Ndrivers, features)\n",
      "            err_tmp =np.mean(output)\n",
      "            if err_tmp>err:\n",
      "                err = err_tmp\n",
      "                best_f = i\n",
      "                \n",
      "    if best_f >= 0:\n",
      "        print best_f, err\n",
      "        featuers_selected.append(best_f)\n",
      "        scores.append(err)    \n",
      "    adding_f = len(featuers_selected)  - Nf_prev_step\n",
      "    Nf_prev_step = len(featuers_selected)"
     ],
     "language": "python",
     "metadata": {},
     "outputs": [
      {
       "output_type": "stream",
       "stream": "stdout",
       "text": [
        "20 0.675174653051\n",
        "0"
       ]
      },
      {
       "output_type": "stream",
       "stream": "stdout",
       "text": [
        " 0.723024987843\n",
        "30"
       ]
      },
      {
       "output_type": "stream",
       "stream": "stdout",
       "text": [
        " 0.7415409045\n",
        "23"
       ]
      },
      {
       "output_type": "stream",
       "stream": "stdout",
       "text": [
        " 0.753312609883\n",
        "25"
       ]
      },
      {
       "output_type": "stream",
       "stream": "stdout",
       "text": [
        " 0.757406538735\n",
        "18"
       ]
      },
      {
       "output_type": "stream",
       "stream": "stdout",
       "text": [
        " 0.759560879811\n",
        "24"
       ]
      },
      {
       "output_type": "stream",
       "stream": "stdout",
       "text": [
        " 0.761290951259\n",
        "5"
       ]
      },
      {
       "output_type": "stream",
       "stream": "stdout",
       "text": [
        " 0.761777279018\n",
        "CPU times: user 37.8 s, sys: 1.52 s, total: 39.3 s"
       ]
      },
      {
       "output_type": "stream",
       "stream": "stdout",
       "text": [
        "\n",
        "Wall time: 6min 28s\n"
       ]
      }
     ],
     "prompt_number": 39
    },
    {
     "cell_type": "code",
     "collapsed": false,
     "input": [
      "\n",
      "20 0.673031197396\n",
      "0 0.72456114166\n",
      "30 0.745628997868\n",
      "23 0.757006920286\n",
      "24 0.761905884113\n",
      "18 0.764478547114\n",
      "25 0.766283395055\n",
      "22 0.766289155725\n",
      "26 0.766349006845\n",
      "CPU times: user 41.9 s, sys: 1.63 s, total: 43.5 s\n",
      "Wall time: 7min 10s"
     ],
     "language": "python",
     "metadata": {},
     "outputs": []
    },
    {
     "cell_type": "code",
     "collapsed": false,
     "input": [
      "#nomask\n",
      "featuers_selected =[14, 5, 28, 24, 10, 7, 30, 0, 22, 12, 2, 20, 6, 23, 4, 13, 25, 17]"
     ],
     "language": "python",
     "metadata": {},
     "outputs": [],
     "prompt_number": 7
    },
    {
     "cell_type": "markdown",
     "metadata": {},
     "source": [
      "#Training"
     ]
    },
    {
     "cell_type": "code",
     "collapsed": false,
     "input": [
      "%%px\n",
      "out = EllipticEnvelope(contamination=0.1)\n",
      "clf = GradientBoostingClassifier(n_estimators=10, learning_rate=0.05,  max_depth=3, random_state=0, subsample =0.5)\n",
      "#clf= svm.SVC(kernel='rbf',C=0.01)"
     ],
     "language": "python",
     "metadata": {},
     "outputs": [],
     "prompt_number": 7
    },
    {
     "cell_type": "code",
     "collapsed": false,
     "input": [
      "%px cv='learn'"
     ],
     "language": "python",
     "metadata": {},
     "outputs": [],
     "prompt_number": 8
    },
    {
     "cell_type": "code",
     "collapsed": false,
     "input": [
      "%%time \n",
      "\n",
      "ff = range(18)\n",
      "\n",
      "if 1:\n",
      "    N = 10\n",
      "    Ndrivers = len(drivers)\n",
      "    \n",
      "    features = [ ff for j in range(Ndrivers)]\n",
      "    output = dview.map(predict, drivers, [N,]*Ndrivers, features)"
     ],
     "language": "python",
     "metadata": {},
     "outputs": [
      {
       "output_type": "stream",
       "stream": "stdout",
       "text": [
        "CPU times: user 4.27 s, sys: 163 ms, total: 4.43 s\n",
        "Wall time: 54.5 s\n"
       ]
      }
     ],
     "prompt_number": 10
    },
    {
     "cell_type": "code",
     "collapsed": false,
     "input": [
      "data = {}\n",
      "for d, y in output:\n",
      "    data[d] = y"
     ],
     "language": "python",
     "metadata": {},
     "outputs": [],
     "prompt_number": 26
    },
    {
     "cell_type": "code",
     "collapsed": false,
     "input": [
      "#start_y =[1*(data[d]>0.3) for d in drivers]"
     ],
     "language": "python",
     "metadata": {},
     "outputs": [],
     "prompt_number": 27
    },
    {
     "cell_type": "code",
     "collapsed": false,
     "input": [
      "f = open('result_N100_n10_nf18_sy03.csv', 'w')\n",
      "print >>f, 'driver_trip,prob'\n",
      "for d in drivers:\n",
      "    for i in range(200):\n",
      "        print >>f, '%d_%d,%.3f'%(d, i+1, data[d][i])\n",
      "        \n",
      "f.close()"
     ],
     "language": "python",
     "metadata": {},
     "outputs": [],
     "prompt_number": 28
    },
    {
     "cell_type": "markdown",
     "metadata": {},
     "source": [
      "#Evaluate and safe"
     ]
    },
    {
     "cell_type": "code",
     "collapsed": false,
     "input": [
      "f = open('result.csv', 'w')\n",
      "print >>f, 'driver_trip,prob'\n",
      "for d in drivers:\n",
      "    for i in range(200):\n",
      "        print >>f, '%d_%d,%.3f'%(d, i+1, data[d][i])\n",
      "f.close()"
     ],
     "language": "python",
     "metadata": {},
     "outputs": [],
     "prompt_number": 91
    },
    {
     "cell_type": "code",
     "collapsed": false,
     "input": [
      "np.mean(scores)"
     ],
     "language": "python",
     "metadata": {},
     "outputs": [
      {
       "metadata": {},
       "output_type": "pyout",
       "prompt_number": 24,
       "text": [
        "0.86260294834308004"
       ]
      }
     ],
     "prompt_number": 24
    },
    {
     "cell_type": "code",
     "collapsed": false,
     "input": [
      "F = np.zeros(13)\n",
      "for key in Fimp.keys():\n",
      "    F += Fimp[key]"
     ],
     "language": "python",
     "metadata": {},
     "outputs": [],
     "prompt_number": 25
    },
    {
     "cell_type": "code",
     "collapsed": false,
     "input": [
      "p = 0.2\n",
      "data = {}\n",
      "for val, ys in output:\n",
      "    data[val]= np.ones(200)\n",
      "    for y in ys:\n",
      "        for i in range(200):\n",
      "            if y[i]<p: data[val][i] = data[val][i]*0.9"
     ],
     "language": "python",
     "metadata": {},
     "outputs": [
      {
       "metadata": {},
       "output_type": "pyout",
       "prompt_number": 27,
       "text": [
        "array([ 269.64039403,   14.24191731,   19.39648711,   75.51488485,\n",
        "        383.43124704,  145.26763714,  298.31217308,  233.4997155 ,\n",
        "        215.03719678,  488.3462789 ,  179.70479368,  215.27333436,\n",
        "        198.33394023])"
       ]
      }
     ],
     "prompt_number": 27
    },
    {
     "cell_type": "markdown",
     "metadata": {},
     "source": [
      "#scale probabilities"
     ]
    },
    {
     "cell_type": "code",
     "collapsed": false,
     "input": [
      "import numpy as np\n",
      "%pylab inline"
     ],
     "language": "python",
     "metadata": {},
     "outputs": [
      {
       "output_type": "stream",
       "stream": "stdout",
       "text": [
        "Populating the interactive namespace from numpy and matplotlib\n"
       ]
      }
     ],
     "prompt_number": 5
    },
    {
     "cell_type": "code",
     "collapsed": false,
     "input": [
      "y_all = np.genfromtxt('result_40_0_3_2700_fs_16.csv', delimiter=',')[1:,1]"
     ],
     "language": "python",
     "metadata": {},
     "outputs": [],
     "prompt_number": 38
    },
    {
     "cell_type": "code",
     "collapsed": false,
     "input": [
      "drivers = list(np.loadtxt('drivers.txt', dtype=np.int16))"
     ],
     "language": "python",
     "metadata": {},
     "outputs": [],
     "prompt_number": 39
    },
    {
     "cell_type": "code",
     "collapsed": false,
     "input": [
      "data = {}\n",
      "count = 0\n",
      "for i, d in enumerate(drivers[:100]):\n",
      "\n",
      "    data[d] = y_all[200*i:200*(i+1)]\n",
      "    hist(data[d])\n",
      "\n",
      "    data[d] -= min(data[d])\n",
      "    data[d] /= max(data[d])\n",
      "    #print np.percentile(data[d], 5)\n",
      "    print mean(data[d])"
     ],
     "language": "python",
     "metadata": {},
     "outputs": [
      {
       "output_type": "stream",
       "stream": "stdout",
       "text": [
        "0.910376344086\n",
        "0.923212560386\n",
        "0.89718220339\n",
        "0.881028277635\n",
        "0.894265927978\n",
        "0.934229781772"
       ]
      },
      {
       "output_type": "stream",
       "stream": "stdout",
       "text": [
        "\n",
        "0.926310289389\n",
        "0.916309931507\n",
        "0.929762210797\n",
        "0.93791064389\n",
        "0.940478873239\n",
        "0.896083743842"
       ]
      },
      {
       "output_type": "stream",
       "stream": "stdout",
       "text": [
        "\n",
        "0.900801457195\n",
        "0.937187060478\n",
        "0.88146484375\n",
        "0.896481835564\n",
        "0.94364790287"
       ]
      },
      {
       "output_type": "stream",
       "stream": "stdout",
       "text": [
        "\n",
        "0.904277777778\n",
        "0.915408858603\n",
        "0.90128968254\n",
        "0.925617021277\n",
        "0.916309751434\n",
        "0.916434782609"
       ]
      },
      {
       "output_type": "stream",
       "stream": "stdout",
       "text": [
        "\n",
        "0.908858885017\n",
        "0.915085066163\n",
        "0.877194092827\n",
        "0.894457943925\n",
        "0.924656432749"
       ]
      },
      {
       "output_type": "stream",
       "stream": "stdout",
       "text": [
        "\n",
        "0.916205287714\n",
        "0.901301369863\n",
        "0.919624600639\n",
        "0.905037453184\n",
        "0.939747634069\n",
        "0.88770661157"
       ]
      },
      {
       "output_type": "stream",
       "stream": "stdout",
       "text": [
        "\n",
        "0.926169724771\n",
        "0.850055865922\n",
        "0.950631500743\n",
        "0.909833333333\n",
        "0.908725314183"
       ]
      },
      {
       "output_type": "stream",
       "stream": "stdout",
       "text": [
        "\n",
        "0.911871961102\n",
        "0.897941176471\n",
        "0.905444444444\n",
        "0.909677734375\n",
        "0.904794520548"
       ]
      },
      {
       "output_type": "stream",
       "stream": "stdout",
       "text": [
        "\n",
        "0.92020123839\n",
        "0.921539130435\n",
        "0.894337349398\n",
        "0.909389312977\n",
        "0.923303198887"
       ]
      },
      {
       "output_type": "stream",
       "stream": "stdout",
       "text": [
        "\n",
        "0.943715469613\n",
        "0.880173824131\n",
        "0.903985801217\n",
        "0.868992805755\n",
        "0.886486842105"
       ]
      },
      {
       "output_type": "stream",
       "stream": "stdout",
       "text": [
        "\n",
        "0.890213219616\n",
        "0.885893169877\n",
        "0.898402985075\n",
        "0.953908794788\n",
        "0.908062953995"
       ]
      },
      {
       "output_type": "stream",
       "stream": "stdout",
       "text": [
        "\n",
        "0.882752293578\n",
        "0.920036630037\n",
        "0.94165648855\n",
        "0.867209567198\n",
        "0.958615853659"
       ]
      },
      {
       "output_type": "stream",
       "stream": "stdout",
       "text": [
        "\n",
        "0.930303970223\n",
        "0.935028571429\n",
        "0.909340753425\n",
        "0.91134935305\n",
        "0.906624758221\n",
        "0.911344984802"
       ]
      },
      {
       "output_type": "stream",
       "stream": "stdout",
       "text": [
        "\n",
        "0.904260485651\n",
        "0.922544378698\n",
        "0.873055555556\n",
        "0.91184418146\n",
        "0.905448473282"
       ]
      },
      {
       "output_type": "stream",
       "stream": "stdout",
       "text": [
        "\n",
        "0.925697183099\n",
        "0.958191027496\n",
        "0.925991525424\n",
        "0.887152230971"
       ]
      },
      {
       "output_type": "stream",
       "stream": "stdout",
       "text": [
        "\n",
        "0.92280058651\n",
        "0.893388235294\n",
        "0.933407142857\n",
        "0.854884020619\n",
        "0.902816291161"
       ]
      },
      {
       "output_type": "stream",
       "stream": "stdout",
       "text": [
        "\n",
        "0.950099866844\n",
        "0.933506944444\n",
        "0.954537815126\n",
        "0.907146507666\n",
        "0.887880299252\n",
        "0.906929824561"
       ]
      },
      {
       "output_type": "stream",
       "stream": "stdout",
       "text": [
        "\n",
        "0.904433427762\n",
        "0.956438709677\n",
        "0.927711864407\n",
        "0.932322357019\n",
        "0.950321100917"
       ]
      },
      {
       "output_type": "stream",
       "stream": "stdout",
       "text": [
        "\n",
        "0.902221095335\n",
        "0.963450956938\n",
        "0.936506955178\n",
        "0.867034739454\n",
        "0.947174677608\n"
       ]
      },
      {
       "metadata": {},
       "output_type": "display_data",
       "png": "[encoded data removed]",
       "text": [
        "<matplotlib.figure.Figure at 0xdae4a10>"
       ]
      }
     ],
     "prompt_number": 40
    },
    {
     "cell_type": "code",
     "collapsed": false,
     "input": [
      "hist(data[1])"
     ],
     "language": "python",
     "metadata": {},
     "outputs": [
      {
       "metadata": {},
       "output_type": "pyout",
       "prompt_number": 24,
       "text": [
        "(array([   2.,    0.,    3.,    1.,    3.,    3.,    7.,    7.,   17.,  157.]),\n",
        " array([ 0.442 ,  0.4978,  0.5536,  0.6094,  0.6652,  0.721 ,  0.7768,\n",
        "         0.8326,  0.8884,  0.9442,  1.    ]),\n",
        " <a list of 10 Patch objects>)"
       ]
      },
      {
       "metadata": {},
       "output_type": "display_data",
       "png": "[encoded data removed]",
       "text": [
        "<matplotlib.figure.Figure at 0x34ae250>"
       ]
      }
     ],
     "prompt_number": 24
    },
    {
     "cell_type": "code",
     "collapsed": false,
     "input": [],
     "language": "python",
     "metadata": {},
     "outputs": []
    }
   ],
   "metadata": {}
  }
 ]
}