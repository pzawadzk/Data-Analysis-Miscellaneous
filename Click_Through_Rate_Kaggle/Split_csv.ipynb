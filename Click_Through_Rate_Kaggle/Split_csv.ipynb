{
 "metadata": {
  "name": "",
  "signature": "sha256:0c9c9a8e4e01a51855ebb32e97cde31db73d558f316f0b1efa458e6ee6107f20"
 },
 "nbformat": 3,
 "nbformat_minor": 0,
 "worksheets": [
  {
   "cells": [
    {
     "cell_type": "code",
     "collapsed": false,
     "input": [
      "import random\n",
      "with open(\"data/train\") as fr:\n",
      "        for line in fr.readlines():\n",
      "            rd = random.randint(0, 12)\n",
      "            with open(\"data/train_A_%d.csv\"%rd, \"a\") as myfile:\n",
      "                myfile.write(line)\n",
      "                "
     ],
     "language": "python",
     "metadata": {},
     "outputs": []
    },
    {
     "cell_type": "code",
     "collapsed": false,
     "input": [],
     "language": "python",
     "metadata": {},
     "outputs": []
    }
   ],
   "metadata": {}
  }
 ]
}