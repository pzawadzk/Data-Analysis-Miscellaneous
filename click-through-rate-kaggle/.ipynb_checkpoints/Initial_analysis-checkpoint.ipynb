{
 "metadata": {
  "name": "",
  "signature": "sha256:02b1a8635874d68e97a4631c4635bd61aad0f809224f009a5f12e4b41ab6b791"
 },
 "nbformat": 3,
 "nbformat_minor": 0,
 "worksheets": [
  {
   "cells": [
    {
     "cell_type": "markdown",
     "metadata": {},
     "source": [
      "#Click-Through Rate Prediction\n",
      "https://www.kaggle.com/c/avazu-ctr-prediction\n",
      "\n",
      "This notebook contains exploratory data analysis. The final machine learning algorithm is implemented in setup.py, train.py, test.py, submission.py"
     ]
    },
    {
     "cell_type": "code",
     "collapsed": false,
     "input": [
      "import pandas as pd\n",
      "import numpy as np\n",
      "import pickle\n",
      "from sklearn.metrics import log_loss\n",
      "from sklearn.tree import DecisionTreeClassifier\n",
      "%pylab inline"
     ],
     "language": "python",
     "metadata": {},
     "outputs": [
      {
       "output_type": "stream",
       "stream": "stdout",
       "text": [
        "Populating the interactive namespace from numpy and matplotlib\n"
       ]
      }
     ],
     "prompt_number": 2
    },
    {
     "cell_type": "markdown",
     "metadata": {},
     "source": [
      "#Read Data"
     ]
    },
    {
     "cell_type": "code",
     "collapsed": false,
     "input": [
      "#f = open('data/train_005', 'r')\n",
      "#line = f.readline()\n",
      "#f.close()\n",
      "#headers = line.strip().split(',')"
     ],
     "language": "python",
     "metadata": {},
     "outputs": [],
     "prompt_number": 3
    },
    {
     "cell_type": "code",
     "collapsed": false,
     "input": [
      "headers = ['id',\n",
      " 'click',\n",
      " 'hour',\n",
      " 'C1',\n",
      " 'banner_pos',\n",
      " 'site_id',\n",
      " 'site_domain',\n",
      " 'site_category',\n",
      " 'app_id',\n",
      " 'app_domain',\n",
      " 'app_category',\n",
      " 'device_id',\n",
      " 'device_ip',\n",
      " 'device_model',\n",
      " 'device_type',\n",
      " 'device_conn_type',\n",
      " 'C14',\n",
      " 'C15',\n",
      " 'C16',\n",
      " 'C17',\n",
      " 'C18',\n",
      " 'C19',\n",
      " 'C20',\n",
      " 'C21']"
     ],
     "language": "python",
     "metadata": {},
     "outputs": [],
     "prompt_number": 4
    },
    {
     "cell_type": "code",
     "collapsed": false,
     "input": [
      "df = pd.read_csv('data/train_01', names=headers)#, header=0, usecols = usecols)\n",
      "print df.shape\n",
      "df.head()"
     ],
     "language": "python",
     "metadata": {},
     "outputs": [
      {
       "output_type": "stream",
       "stream": "stdout",
       "text": [
        "(404490, 24)\n"
       ]
      },
      {
       "html": [
        "<div style=\"max-height:1000px;max-width:1500px;overflow:auto;\">\n",
        "<table border=\"1\" class=\"dataframe\">\n",
        "  <thead>\n",
        "    <tr style=\"text-align: right;\">\n",
        "      <th></th>\n",
        "      <th>id</th>\n",
        "      <th>click</th>\n",
        "      <th>hour</th>\n",
        "      <th>C1</th>\n",
        "      <th>banner_pos</th>\n",
        "      <th>site_id</th>\n",
        "      <th>site_domain</th>\n",
        "      <th>site_category</th>\n",
        "      <th>app_id</th>\n",
        "      <th>app_domain</th>\n",
        "      <th>app_category</th>\n",
        "      <th>device_id</th>\n",
        "      <th>device_ip</th>\n",
        "      <th>device_model</th>\n",
        "      <th>device_type</th>\n",
        "      <th>device_conn_type</th>\n",
        "      <th>C14</th>\n",
        "      <th>C15</th>\n",
        "      <th>C16</th>\n",
        "      <th>C17</th>\n",
        "      <th></th>\n",
        "    </tr>\n",
        "  </thead>\n",
        "  <tbody>\n",
        "    <tr>\n",
        "      <th>0</th>\n",
        "      <td> 10030054951926343961</td>\n",
        "      <td> 1</td>\n",
        "      <td> 14102100</td>\n",
        "      <td> 1005</td>\n",
        "      <td> 1</td>\n",
        "      <td> d9750ee7</td>\n",
        "      <td> 98572c79</td>\n",
        "      <td> f028772b</td>\n",
        "      <td> ecad2386</td>\n",
        "      <td> 7801e8d9</td>\n",
        "      <td> 07d7df22</td>\n",
        "      <td> a99f214a</td>\n",
        "      <td> 82628a01</td>\n",
        "      <td> 3d64834e</td>\n",
        "      <td> 1</td>\n",
        "      <td> 2</td>\n",
        "      <td> 17614</td>\n",
        "      <td> 320</td>\n",
        "      <td> 50</td>\n",
        "      <td> 1993</td>\n",
        "      <td>...</td>\n",
        "    </tr>\n",
        "    <tr>\n",
        "      <th>1</th>\n",
        "      <td> 10037810025728838562</td>\n",
        "      <td> 0</td>\n",
        "      <td> 14102100</td>\n",
        "      <td> 1005</td>\n",
        "      <td> 1</td>\n",
        "      <td> 5ee41ff2</td>\n",
        "      <td> 17d996e6</td>\n",
        "      <td> f028772b</td>\n",
        "      <td> ecad2386</td>\n",
        "      <td> 7801e8d9</td>\n",
        "      <td> 07d7df22</td>\n",
        "      <td> a99f214a</td>\n",
        "      <td> 0c8250d7</td>\n",
        "      <td> 88fe1d5d</td>\n",
        "      <td> 1</td>\n",
        "      <td> 0</td>\n",
        "      <td> 19771</td>\n",
        "      <td> 320</td>\n",
        "      <td> 50</td>\n",
        "      <td> 2227</td>\n",
        "      <td>...</td>\n",
        "    </tr>\n",
        "    <tr>\n",
        "      <th>2</th>\n",
        "      <td> 10042273042149042625</td>\n",
        "      <td> 0</td>\n",
        "      <td> 14102100</td>\n",
        "      <td> 1005</td>\n",
        "      <td> 0</td>\n",
        "      <td> 1fbe01fe</td>\n",
        "      <td> f3845767</td>\n",
        "      <td> 28905ebd</td>\n",
        "      <td> ecad2386</td>\n",
        "      <td> 7801e8d9</td>\n",
        "      <td> 07d7df22</td>\n",
        "      <td> a99f214a</td>\n",
        "      <td> ef8cc324</td>\n",
        "      <td> 5096d134</td>\n",
        "      <td> 1</td>\n",
        "      <td> 0</td>\n",
        "      <td> 15702</td>\n",
        "      <td> 320</td>\n",
        "      <td> 50</td>\n",
        "      <td> 1722</td>\n",
        "      <td>...</td>\n",
        "    </tr>\n",
        "    <tr>\n",
        "      <th>3</th>\n",
        "      <td> 10100912820372977887</td>\n",
        "      <td> 1</td>\n",
        "      <td> 14102100</td>\n",
        "      <td> 1005</td>\n",
        "      <td> 0</td>\n",
        "      <td> 7697ed3e</td>\n",
        "      <td> c1aa3c04</td>\n",
        "      <td> f028772b</td>\n",
        "      <td> ecad2386</td>\n",
        "      <td> 7801e8d9</td>\n",
        "      <td> 07d7df22</td>\n",
        "      <td> a99f214a</td>\n",
        "      <td> f3ecf4b7</td>\n",
        "      <td> 1f0bc64f</td>\n",
        "      <td> 1</td>\n",
        "      <td> 0</td>\n",
        "      <td> 20352</td>\n",
        "      <td> 320</td>\n",
        "      <td> 50</td>\n",
        "      <td> 2333</td>\n",
        "      <td>...</td>\n",
        "    </tr>\n",
        "    <tr>\n",
        "      <th>4</th>\n",
        "      <td> 10113680691021930825</td>\n",
        "      <td> 0</td>\n",
        "      <td> 14102100</td>\n",
        "      <td> 1005</td>\n",
        "      <td> 0</td>\n",
        "      <td> 030440fe</td>\n",
        "      <td> 08ba7db9</td>\n",
        "      <td> 76b2941d</td>\n",
        "      <td> ecad2386</td>\n",
        "      <td> 7801e8d9</td>\n",
        "      <td> 07d7df22</td>\n",
        "      <td> a99f214a</td>\n",
        "      <td> 7108daf9</td>\n",
        "      <td> 293291c1</td>\n",
        "      <td> 1</td>\n",
        "      <td> 0</td>\n",
        "      <td> 20596</td>\n",
        "      <td> 320</td>\n",
        "      <td> 50</td>\n",
        "      <td> 2161</td>\n",
        "      <td>...</td>\n",
        "    </tr>\n",
        "  </tbody>\n",
        "</table>\n",
        "<p>5 rows \u00d7 24 columns</p>\n",
        "</div>"
       ],
       "metadata": {},
       "output_type": "pyout",
       "prompt_number": 5,
       "text": [
        "                     id  click      hour    C1  banner_pos   site_id  \\\n",
        "0  10030054951926343961      1  14102100  1005           1  d9750ee7   \n",
        "1  10037810025728838562      0  14102100  1005           1  5ee41ff2   \n",
        "2  10042273042149042625      0  14102100  1005           0  1fbe01fe   \n",
        "3  10100912820372977887      1  14102100  1005           0  7697ed3e   \n",
        "4  10113680691021930825      0  14102100  1005           0  030440fe   \n",
        "\n",
        "  site_domain site_category    app_id app_domain app_category device_id  \\\n",
        "0    98572c79      f028772b  ecad2386   7801e8d9     07d7df22  a99f214a   \n",
        "1    17d996e6      f028772b  ecad2386   7801e8d9     07d7df22  a99f214a   \n",
        "2    f3845767      28905ebd  ecad2386   7801e8d9     07d7df22  a99f214a   \n",
        "3    c1aa3c04      f028772b  ecad2386   7801e8d9     07d7df22  a99f214a   \n",
        "4    08ba7db9      76b2941d  ecad2386   7801e8d9     07d7df22  a99f214a   \n",
        "\n",
        "  device_ip device_model  device_type  device_conn_type    C14  C15  C16  \\\n",
        "0  82628a01     3d64834e            1                 2  17614  320   50   \n",
        "1  0c8250d7     88fe1d5d            1                 0  19771  320   50   \n",
        "2  ef8cc324     5096d134            1                 0  15702  320   50   \n",
        "3  f3ecf4b7     1f0bc64f            1                 0  20352  320   50   \n",
        "4  7108daf9     293291c1            1                 0  20596  320   50   \n",
        "\n",
        "    C17      \n",
        "0  1993 ...  \n",
        "1  2227 ...  \n",
        "2  1722 ...  \n",
        "3  2333 ...  \n",
        "4  2161 ...  \n",
        "\n",
        "[5 rows x 24 columns]"
       ]
      }
     ],
     "prompt_number": 5
    },
    {
     "cell_type": "code",
     "collapsed": false,
     "input": [
      "df['hour'].dtype"
     ],
     "language": "python",
     "metadata": {},
     "outputs": [
      {
       "metadata": {},
       "output_type": "pyout",
       "prompt_number": 8,
       "text": [
        "dtype('int64')"
       ]
      }
     ],
     "prompt_number": 8
    },
    {
     "cell_type": "code",
     "collapsed": false,
     "input": [
      "f = open('features_05.pckl', 'r')\n",
      "features = pickle.load(f)\n",
      "f.close()\n",
      "\n",
      "features_touples = []\n",
      "for key in features.keys():\n",
      "    for f in features[key]:\n",
      "        features_touples.append((key,f))\n",
      "print len(features_touples)"
     ],
     "language": "python",
     "metadata": {},
     "outputs": [
      {
       "output_type": "stream",
       "stream": "stdout",
       "text": [
        "468\n"
       ]
      }
     ],
     "prompt_number": 6
    },
    {
     "cell_type": "markdown",
     "metadata": {},
     "source": [
      "#Get X, y"
     ]
    },
    {
     "cell_type": "code",
     "collapsed": false,
     "input": [
      "def get_X_y(df, features_touples, indexes=None, get_y=True):\n",
      "    \"\"\"Converts data frame to np.array using desired features \"\"\"\n",
      "    \n",
      "    if indexes == None: indexes=range(len(features_touples)+2)\n",
      "    Nr, Nc  = df.shape\n",
      "    Nf = len(indexes)\n",
      "    print Nr, Nc, Nf\n",
      "    if get_y: y = df['click'].values\n",
      "    X = np.zeros([Nr,Nf]) \n",
      "    X[:,0] = df['hour'].values % 10000\n",
      "    #X[:,1] = (df['hour'].values - (df['hour'].values % 10000))/10000\n",
      "    count = 1\n",
      "    count_tot = 2\n",
      "    for key, f in features_touples:\n",
      "        if count_tot in indexes:\n",
      "            X[:, count] = np.array(df[key]==f)\n",
      "            count +=1\n",
      "        count_tot += 1\n",
      "    if get_y:\n",
      "        return X, y\n",
      "    else:\n",
      "        return X"
     ],
     "language": "python",
     "metadata": {},
     "outputs": [],
     "prompt_number": 299
    },
    {
     "cell_type": "code",
     "collapsed": false,
     "input": [
      "X, y = get_X_y(df, features_touples)\n",
      "print 'Size of numpy array in GB:', X.nbytes/1.e9"
     ],
     "language": "python",
     "metadata": {},
     "outputs": [
      {
       "output_type": "stream",
       "stream": "stdout",
       "text": [
        "404490 24 468\n",
        "Size of numpy array in GB:"
       ]
      },
      {
       "output_type": "stream",
       "stream": "stdout",
       "text": [
        " 1.5208824\n"
       ]
      }
     ],
     "prompt_number": 54
    },
    {
     "cell_type": "markdown",
     "metadata": {},
     "source": [
      "#Feature Selection"
     ]
    },
    {
     "cell_type": "code",
     "collapsed": false,
     "input": [
      "from sklearn.tree import DecisionTreeClassifier \n",
      "def get_scores_decision_tree(X, y):\n",
      "    clf = DecisionTreeClassifier()\n",
      "    clf.fit(X,y)\n",
      "    return clf.feature_importances_ "
     ],
     "language": "python",
     "metadata": {},
     "outputs": [],
     "prompt_number": 61
    },
    {
     "cell_type": "code",
     "collapsed": false,
     "input": [
      "scores = get_scores_decision_tree(X,y)"
     ],
     "language": "python",
     "metadata": {},
     "outputs": [],
     "prompt_number": 63
    },
    {
     "cell_type": "code",
     "collapsed": false,
     "input": [
      "bar(range(len(scores)), scores)"
     ],
     "language": "python",
     "metadata": {},
     "outputs": [
      {
       "metadata": {},
       "output_type": "pyout",
       "prompt_number": 87,
       "text": [
        "<Container object of 470 artists>"
       ]
      },
      {
       "metadata": {},
       "output_type": "display_data",
       "png": "[encoded data removed]",
       "text": [
        "<matplotlib.figure.Figure at 0xb769c90>"
       ]
      }
     ],
     "prompt_number": 87
    },
    {
     "cell_type": "code",
     "collapsed": false,
     "input": [
      "write = False\n",
      "if write:\n",
      "    f = open('scores_05.pckl', 'w')\n",
      "    pickle.dump(scores, f)\n",
      "    f.close()\n",
      "else:\n",
      "    f = open('scores_05.pckl', 'r')\n",
      "    scores = pickle.load(f)\n",
      "    f.close()\n"
     ],
     "language": "python",
     "metadata": {},
     "outputs": [],
     "prompt_number": 18
    },
    {
     "cell_type": "code",
     "collapsed": false,
     "input": [
      "len(features_touples)\n",
      "print len(scores)"
     ],
     "language": "python",
     "metadata": {},
     "outputs": [
      {
       "output_type": "stream",
       "stream": "stdout",
       "text": [
        "470\n"
       ]
      }
     ],
     "prompt_number": 20
    },
    {
     "cell_type": "markdown",
     "metadata": {},
     "source": [
      "#Training"
     ]
    },
    {
     "cell_type": "code",
     "collapsed": false,
     "input": [
      "scores_indexes = [i for i in range(len(scores)) if scores[i]>1e-3]"
     ],
     "language": "python",
     "metadata": {},
     "outputs": [],
     "prompt_number": 95
    },
    {
     "cell_type": "code",
     "collapsed": false,
     "input": [
      "def get_clfs(rank):\n",
      "    \"\"\" Traning decision tree on a chank of data and returns predictions\"\"\"\n",
      "    df = pd.read_csv('data/train_%d.csv'%rank, names=headers)\n",
      "    np.random.seed(rank)\n",
      "    fselect = np.random.choice(range(141), 20)\n",
      "    print rank, fselect\n",
      "    print rank, df.shape\n",
      "    X_fs, y_fs = get_X_y(df, features_touples, np.array(scores_indexes)[fselect])\n",
      "    del df\n",
      "    \n",
      "    print rank, 'Size of numpy array in GB:', X_fs.nbytes/1.e9\n",
      "    clf = DecisionTreeClassifier(random_state=0)\n",
      "    clf.fit(X_fs,y_fs)\n",
      "    y_pred = clf.predict_proba(X_fs)\n",
      "    etmp = log_loss(y_fs, y_pred)\n",
      "    print rank, 'IN error', etmp\n",
      "    return (clf, rank)\n"
     ],
     "language": "python",
     "metadata": {},
     "outputs": [],
     "prompt_number": 366
    },
    {
     "cell_type": "code",
     "collapsed": false,
     "input": [
      "%%time\n",
      "CLFS = []\n",
      "for i in range(4):\n",
      "    clf, r = get_clfs(i)\n",
      "    CLFS.append(clf)"
     ],
     "language": "python",
     "metadata": {},
     "outputs": [
      {
       "output_type": "stream",
       "stream": "stdout",
       "text": [
        "0 [ 47 117  67 103   9  21  36  87  70  88 140  58  39  87  88  81  25  77\n",
        "  72   9]\n",
        "0 (1616792, 24)\n",
        "1616792 24 20\n",
        "0"
       ]
      },
      {
       "output_type": "stream",
       "stream": "stdout",
       "text": [
        " Size of numpy array in GB: 0.25868672\n",
        "0"
       ]
      },
      {
       "output_type": "stream",
       "stream": "stdout",
       "text": [
        " IN error 0.437315191882\n",
        "1"
       ]
      },
      {
       "output_type": "stream",
       "stream": "stdout",
       "text": [
        " [ 37 140  72 137 133  79 129  71 134  25  20 101 139  50  68  96  86 137\n",
        "   7  63]\n",
        "1 (1616336, 24)\n",
        "1616336 24 20\n",
        "1"
       ]
      },
      {
       "output_type": "stream",
       "stream": "stdout",
       "text": [
        " Size of numpy array in GB: 0.25861376\n",
        "1"
       ]
      },
      {
       "output_type": "stream",
       "stream": "stdout",
       "text": [
        " IN error 0.443599766426\n",
        "2"
       ]
      },
      {
       "output_type": "stream",
       "stream": "stdout",
       "text": [
        " [ 15  72  22  43  75 104   7  95  75  47  63  31 124 116  37 102   4 107\n",
        "  51 103]\n",
        "2 (1619147, 24)\n",
        "1619147 24 20\n",
        "2"
       ]
      },
      {
       "output_type": "stream",
       "stream": "stdout",
       "text": [
        " Size of numpy array in GB: 0.25906352\n",
        "2"
       ]
      },
      {
       "output_type": "stream",
       "stream": "stdout",
       "text": [
        " IN error 0.437726286725\n",
        "3"
       ]
      },
      {
       "output_type": "stream",
       "stream": "stdout",
       "text": [
        " [106 131   0  21 107 138 119  93  26  81  66   2  60 129  90  69 104 110\n",
        "  97 106]\n",
        "3 (1616639, 24)\n",
        "1616639 24 20\n",
        "3"
       ]
      },
      {
       "output_type": "stream",
       "stream": "stdout",
       "text": [
        " Size of numpy array in GB: 0.25866224\n",
        "3"
       ]
      },
      {
       "output_type": "stream",
       "stream": "stdout",
       "text": [
        " IN error 0.435058948939\n",
        "CPU times: user 2min 39s, sys: 6.62 s, total: 2min 46s\n",
        "Wall time: 2min 46s\n"
       ]
      }
     ],
     "prompt_number": 367
    },
    {
     "cell_type": "code",
     "collapsed": false,
     "input": [
      "def predict_proba(CLF, test_name, headers, Nseed=1, get_y=True):\n",
      "\n",
      "    df = pd.read_csv(test_name, names=headers)\n",
      "    Nr, Nc = df.shape\n",
      "    Y_pred = np.zeros([Nr,2])\n",
      "    for i in range(Nseed):\n",
      "        np.random.seed(i)\n",
      "        fselect = np.random.choice(range(141), 20)\n",
      "        print fselect\n",
      "        result = get_X_y(df, features_touples, np.array(scores_indexes)[fselect], get_y=get_y)\n",
      "\n",
      "        if get_y: X_fs, y = result\n",
      "        else: X_fs = result\n",
      "        clf = CLF[i]\n",
      "        y_pred = clf.predict_proba(X_fs)\n",
      "\n",
      "        Y_pred += y_pred\n",
      "    Y_pred /= Nseed\n",
      "    if get_y: return Y_pred, y\n",
      "    else: return Y_pred\n"
     ],
     "language": "python",
     "metadata": {},
     "outputs": [],
     "prompt_number": 336
    },
    {
     "cell_type": "markdown",
     "metadata": {},
     "source": [
      "#Testing the final model"
     ]
    },
    {
     "cell_type": "code",
     "collapsed": false,
     "input": [
      "%%time \n",
      "Y_pred, y = predict_proba(CLFS, test_name = 'data/test_10', headers=headers, Nseed=4)"
     ],
     "language": "python",
     "metadata": {},
     "outputs": [
      {
       "output_type": "stream",
       "stream": "stdout",
       "text": [
        "[ 47 117  67 103   9  21  36  87  70  88 140  58  39  87  88  81  25  77\n",
        "  72   9]\n",
        "3839676 24 20\n",
        "[ 37 140  72 137 133  79 129  71 134  25  20 101 139  50  68  96  86 137\n",
        "   7  63]"
       ]
      },
      {
       "output_type": "stream",
       "stream": "stdout",
       "text": [
        "\n",
        "3839676 24 20\n",
        "[ 15  72  22  43  75 104   7  95  75  47  63  31 124 116  37 102   4 107\n",
        "  51 103]"
       ]
      },
      {
       "output_type": "stream",
       "stream": "stdout",
       "text": [
        "\n",
        "3839676 24 20\n",
        "[106 131   0  21 107 138 119  93  26  81  66   2  60 129  90  69 104 110\n",
        "  97 106]"
       ]
      },
      {
       "output_type": "stream",
       "stream": "stdout",
       "text": [
        "\n",
        "3839676 24 20\n",
        "CPU times: user 31.7 s, sys: 9.22 s, total: 40.9 s"
       ]
      },
      {
       "output_type": "stream",
       "stream": "stdout",
       "text": [
        "\n",
        "Wall time: 41.1 s\n"
       ]
      }
     ],
     "prompt_number": 325
    },
    {
     "cell_type": "code",
     "collapsed": false,
     "input": [
      "etmp = log_loss(y, Y_pred)\n",
      "print etmp"
     ],
     "language": "python",
     "metadata": {},
     "outputs": [
      {
       "output_type": "stream",
       "stream": "stdout",
       "text": [
        "0.441992686607\n"
       ]
      }
     ],
     "prompt_number": 308
    },
    {
     "cell_type": "markdown",
     "metadata": {},
     "source": [
      "#Final prediction"
     ]
    },
    {
     "cell_type": "code",
     "collapsed": false,
     "input": [
      "headers_no_click = headers[:]\n",
      "headers_no_click.remove('click')\n",
      "\n",
      "\n",
      "prob = predict_proba(CLFS, test_name = 'data/test', headers=headers_no_click, Nseed=1, get_y=False)"
     ],
     "language": "python",
     "metadata": {},
     "outputs": [
      {
       "output_type": "stream",
       "stream": "stdout",
       "text": [
        "[ 47 117  67 103   9  21  36  87  70  88 140  58  39  87  88  81  25  77\n",
        "  72   9]\n",
        "4577464 23 20\n"
       ]
      }
     ],
     "prompt_number": 358
    },
    {
     "cell_type": "code",
     "collapsed": false,
     "input": [
      "df_final = pd.read_csv('test', usecols =[0], names=['id'])"
     ],
     "language": "python",
     "metadata": {},
     "outputs": [],
     "prompt_number": 349
    },
    {
     "cell_type": "code",
     "collapsed": false,
     "input": [
      "df_final['click'] = np.nan\n",
      "df_final['click'] = prob[:,1]"
     ],
     "language": "python",
     "metadata": {},
     "outputs": [],
     "prompt_number": 360
    },
    {
     "cell_type": "code",
     "collapsed": false,
     "input": [
      "df_final.to_csv('PRED.csv', float_format='%.3f', index=False)"
     ],
     "language": "python",
     "metadata": {},
     "outputs": [],
     "prompt_number": 363
    },
    {
     "cell_type": "code",
     "collapsed": false,
     "input": [
      "print 'SUBMISSION'\n",
      "headers_no_click = headers[:]\n",
      "headers_no_click.remove('click')\n",
      "df = pd.read_csv('data/single_line')#, names=headers_no_click)\n",
      "dtypes = df.dtypes\n",
      "print dtypes\n",
      "\n",
      "\n",
      "df = pd.read_csv('data/test', dtype=dtypes)\n",
      "print df['hour'].dtype"
     ],
     "language": "python",
     "metadata": {},
     "outputs": [
      {
       "output_type": "stream",
       "stream": "stdout",
       "text": [
        "SUBMISSION\n",
        "id                  object\n",
        "hour                 int64\n",
        "C1                   int64\n",
        "banner_pos           int64\n",
        "site_id             object\n",
        "site_domain         object\n",
        "site_category       object\n",
        "app_id              object\n",
        "app_domain          object\n",
        "app_category        object\n",
        "device_id           object\n",
        "device_ip           object\n",
        "device_model        object\n",
        "device_type          int64\n",
        "device_conn_type     int64\n",
        "C14                  int64\n",
        "C15                  int64\n",
        "C16                  int64\n",
        "C17                  int64\n",
        "C18                  int64\n",
        "C19                  int64\n",
        "C20                  int64\n",
        "C21                  int64\n",
        "dtype: object\n",
        "object"
       ]
      },
      {
       "output_type": "stream",
       "stream": "stdout",
       "text": [
        "\n"
       ]
      }
     ],
     "prompt_number": 9
    }
   ],
   "metadata": {}
  }
 ]
}