{
 "metadata": {
  "name": "",
  "signature": "sha256:9edc6a56c5bc5d36d6837c76be8177be8a11dcd435db49b5e40a768faa87584a"
 },
 "nbformat": 3,
 "nbformat_minor": 0,
 "worksheets": [
  {
   "cells": [
    {
     "cell_type": "code",
     "collapsed": false,
     "input": [
      "import datetime\n",
      "\n",
      "import pandas as pd\n",
      "import pandas.io.data\n",
      "%pylab inline\n"
     ],
     "language": "python",
     "metadata": {},
     "outputs": [
      {
       "output_type": "stream",
       "stream": "stdout",
       "text": [
        "Populating the interactive namespace from numpy and matplotlib\n"
       ]
      }
     ],
     "prompt_number": 1
    },
    {
     "cell_type": "code",
     "collapsed": false,
     "input": [
      "df = pd.io.data.get_data_yahoo(['AAPL', 'GE', 'IBM', 'KO'], \n",
      "                               start=datetime.datetime(2011, 10, 20), \n",
      "                               end=datetime.datetime(2014, 10, 20))['Adj Close']\n",
      "df.head()"
     ],
     "language": "python",
     "metadata": {},
     "outputs": [
      {
       "html": [
        "<div style=\"max-height:1000px;max-width:1500px;overflow:auto;\">\n",
        "<table border=\"1\" class=\"dataframe\">\n",
        "  <thead>\n",
        "    <tr style=\"text-align: right;\">\n",
        "      <th></th>\n",
        "      <th>AAPL</th>\n",
        "      <th>GE</th>\n",
        "      <th>IBM</th>\n",
        "      <th>KO</th>\n",
        "      <th>PEP</th>\n",
        "      <th>TEDIX</th>\n",
        "      <th>^GSPC</th>\n",
        "    </tr>\n",
        "    <tr>\n",
        "      <th>Date</th>\n",
        "      <th></th>\n",
        "      <th></th>\n",
        "      <th></th>\n",
        "      <th></th>\n",
        "      <th></th>\n",
        "      <th></th>\n",
        "      <th></th>\n",
        "    </tr>\n",
        "  </thead>\n",
        "  <tbody>\n",
        "    <tr>\n",
        "      <th>2011-10-20</th>\n",
        "      <td> 53.71</td>\n",
        "      <td> 14.99</td>\n",
        "      <td> 167.41</td>\n",
        "      <td> 30.80</td>\n",
        "      <td> 56.84</td>\n",
        "      <td> 22.47</td>\n",
        "      <td> 1215.39</td>\n",
        "    </tr>\n",
        "    <tr>\n",
        "      <th>2011-10-21</th>\n",
        "      <td> 53.38</td>\n",
        "      <td> 14.70</td>\n",
        "      <td> 171.55</td>\n",
        "      <td> 31.29</td>\n",
        "      <td> 56.98</td>\n",
        "      <td> 22.87</td>\n",
        "      <td> 1238.25</td>\n",
        "    </tr>\n",
        "    <tr>\n",
        "      <th>2011-10-24</th>\n",
        "      <td> 55.13</td>\n",
        "      <td> 14.83</td>\n",
        "      <td> 172.14</td>\n",
        "      <td> 31.14</td>\n",
        "      <td> 56.82</td>\n",
        "      <td> 23.09</td>\n",
        "      <td> 1254.19</td>\n",
        "    </tr>\n",
        "    <tr>\n",
        "      <th>2011-10-25</th>\n",
        "      <td> 54.04</td>\n",
        "      <td> 14.62</td>\n",
        "      <td> 170.35</td>\n",
        "      <td> 30.72</td>\n",
        "      <td> 56.56</td>\n",
        "      <td> 22.79</td>\n",
        "      <td> 1229.05</td>\n",
        "    </tr>\n",
        "    <tr>\n",
        "      <th>2011-10-26</th>\n",
        "      <td> 54.43</td>\n",
        "      <td> 14.74</td>\n",
        "      <td> 171.87</td>\n",
        "      <td> 30.96</td>\n",
        "      <td> 56.74</td>\n",
        "      <td> 22.93</td>\n",
        "      <td> 1242.00</td>\n",
        "    </tr>\n",
        "  </tbody>\n",
        "</table>\n",
        "</div>"
       ],
       "metadata": {},
       "output_type": "pyout",
       "prompt_number": 29,
       "text": [
        "             AAPL     GE     IBM     KO    PEP  TEDIX    ^GSPC\n",
        "Date                                                          \n",
        "2011-10-20  53.71  14.99  167.41  30.80  56.84  22.47  1215.39\n",
        "2011-10-21  53.38  14.70  171.55  31.29  56.98  22.87  1238.25\n",
        "2011-10-24  55.13  14.83  172.14  31.14  56.82  23.09  1254.19\n",
        "2011-10-25  54.04  14.62  170.35  30.72  56.56  22.79  1229.05\n",
        "2011-10-26  54.43  14.74  171.87  30.96  56.74  22.93  1242.00"
       ]
      }
     ],
     "prompt_number": 29
    },
    {
     "cell_type": "code",
     "collapsed": false,
     "input": [
      "ret = df.pct_change()"
     ],
     "language": "python",
     "metadata": {},
     "outputs": [],
     "prompt_number": 30
    },
    {
     "cell_type": "code",
     "collapsed": false,
     "input": [
      "ret.std()*100"
     ],
     "language": "python",
     "metadata": {},
     "outputs": [
      {
       "metadata": {},
       "output_type": "pyout",
       "prompt_number": 31,
       "text": [
        "AAPL     1.696862\n",
        "GE       1.178210\n",
        "IBM      1.119755\n",
        "KO       0.902365\n",
        "PEP      0.791791\n",
        "TEDIX    0.664677\n",
        "^GSPC    0.827158\n",
        "dtype: float64"
       ]
      }
     ],
     "prompt_number": 31
    },
    {
     "cell_type": "code",
     "collapsed": false,
     "input": [
      "sharpe_ratio = (250**0.5*ret.mean())/ret.std()"
     ],
     "language": "python",
     "metadata": {},
     "outputs": [],
     "prompt_number": 32
    },
    {
     "cell_type": "code",
     "collapsed": false,
     "input": [
      "sharpe_ratio"
     ],
     "language": "python",
     "metadata": {},
     "outputs": [
      {
       "metadata": {},
       "output_type": "pyout",
       "prompt_number": 33,
       "text": [
        "AAPL     0.900901\n",
        "GE       1.006726\n",
        "IBM      0.107911\n",
        "KO       0.863437\n",
        "PEP      1.384249\n",
        "TEDIX    1.245773\n",
        "^GSPC    1.205186\n",
        "dtype: float64"
       ]
      }
     ],
     "prompt_number": 33
    },
    {
     "cell_type": "code",
     "collapsed": false,
     "input": [],
     "language": "python",
     "metadata": {},
     "outputs": []
    }
   ],
   "metadata": {}
  }
 ]
}