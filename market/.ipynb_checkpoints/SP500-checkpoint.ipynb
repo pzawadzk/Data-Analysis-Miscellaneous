{
 "metadata": {
  "name": "",
  "signature": "sha256:6e0819bac22296ed5fcceda34cb2b220735ad6afc1cd0bc2eb60dff3c382bb52"
 },
 "nbformat": 3,
 "nbformat_minor": 0,
 "worksheets": []
}